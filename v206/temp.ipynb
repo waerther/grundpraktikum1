{
 "cells": [
  {
   "cell_type": "code",
   "execution_count": 1,
   "metadata": {},
   "outputs": [
    {
     "name": "stdout",
     "output_type": "stream",
     "text": [
      "[294.65 296.45 297.85 299.55 301.05 302.65 304.15 305.65 306.95 308.25\n",
      " 309.35 310.65 311.65 312.75 313.75 314.65 315.55 316.45 317.25 317.95\n",
      " 318.75 319.45 320.25 320.95 321.55 322.15 322.65 323.15]\n"
     ]
    },
    {
     "data": {
      "image/png": "[encoded data removed]",
      "text/plain": [
       "<Figure size 432x288 with 1 Axes>"
      ]
     },
     "metadata": {
      "needs_background": "light"
     },
     "output_type": "display_data"
    }
   ],
   "source": [
    "import matplotlib.pyplot as plt\n",
    "import numpy as np\n",
    "#import seaborn as sns\n",
    "#sns.set()\n",
    "\n",
    "t, T1, T2 = np.genfromtxt('temp.txt', unpack=True, skip_header=1)\n",
    "print(T1)\n",
    "\n",
    "plt.plot(t, T1, '.r', label = \"$T_{1}$\")\n",
    "plt.plot(t, T2, '.b', label = \"$T_{2}$\")\n",
    "plt.xlabel(r'Zeit t(s)')\n",
    "plt.ylabel(r'Temperatur (K)')\n",
    "plt.legend(loc=\"lower left\")\n",
    "\n",
    "plt.show()"
   ]
  },
  {
   "cell_type": "markdown",
   "metadata": {},
   "source": [
    "Ausgleichsrechung:"
   ]
  },
  {
   "cell_type": "code",
   "execution_count": 2,
   "metadata": {},
   "outputs": [
    {
     "name": "stdout",
     "output_type": "stream",
     "text": [
      "T1:\n",
      "A = (-6.6217 ± 0.1407)\n",
      "B = (0.0281 ± 0.0002)\n",
      "C = (294.7858 ± 0.0825)\n",
      "T2:\n",
      "A = (4.6346 ± 0.1811)\n",
      "B = (-0.0214 ± 0.0003)\n",
      "C = (294.8097 ± 0.1062)\n"
     ]
    },
    {
     "data": {
      "text/plain": [
       "<matplotlib.legend.Legend at 0x7ffbcc62a7f0>"
      ]
     },
     "execution_count": 2,
     "metadata": {},
     "output_type": "execute_result"
    },
    {
     "data": {
      "image/png": "[encoded data removed]",
      "text/plain": [
       "<Figure size 432x288 with 1 Axes>"
      ]
     },
     "metadata": {
      "needs_background": "light"
     },
     "output_type": "display_data"
    }
   ],
   "source": [
    "from scipy.optimize import curve_fit\n",
    "from decimal import Decimal \n",
    "import pandas as pd\n",
    "# Nicht-lineare Ausgleichsfunktion\n",
    "def f(x, a, b, c):\n",
    "    return a* (x**2) + b * x + c\n",
    "\n",
    "# curve fit\n",
    "param1, pcov1 = curve_fit(f, t, T1)\n",
    "param2, pcov2 = curve_fit(f, t, T2)\n",
    "# Parameter zusammenfassen\n",
    "a1, b1, c1 = param1\n",
    "a2, b2, c2 = param2\n",
    "\n",
    "unc1 = np.sqrt(np.diag(pcov1))\n",
    "unc2 = np.sqrt(np.diag(pcov2))\n",
    "fa1, fb1, fc1 = unc1\n",
    "fa2, fb2, fc2 = unc2\n",
    "\n",
    "a1_mu = a1*10**6\n",
    "a2_mu = a2*10**6\n",
    "fa1_mu = fa1*10**6\n",
    "fa2_mu = fa2*10**6\n",
    "\n",
    "print('T1:')\n",
    "print('A = (%.4f ± %.4f)' % (a1_mu, fa1_mu)) # mu = 10**6\n",
    "print('B = (%.4f ± %.4f)' % (b1, fb1)) \n",
    "print('C = (%.4f ± %.4f)' % (c1, fc1))\n",
    "\n",
    "print(\"T2:\")\n",
    "print('A = (%.4f ± %.4f)' % (a2_mu, fa2_mu)) # mu = 10**6\n",
    "print('B = (%.4f ± %.4f)' % (b2, fb2)) \n",
    "print('C = (%.4f ± %.4f)' % (c2, fc2))\n",
    "\n",
    "x = np.linspace(0, 2000, 500)\n",
    "y1 = f(x, a1, b1, c1)\n",
    "y2 = f(x, a2, b2, c2)\n",
    "plt.plot(t, T1, '.r', label = \"$T_{1}$\")\n",
    "plt.plot(t, T2, '.b', label = \"$T_{2}$\")\n",
    "plt.plot(x, y1, '-r', label = \"Ausgleichsparabel $T_{1}$\")\n",
    "plt.plot(x, y2, '-b', label = \"Ausgleichsparabel $T_{2}$\")\n",
    "plt.xlabel(r'Zeit t(s)')\n",
    "plt.ylabel(r'Temperatur (K)')\n",
    "plt.legend(loc=\"best\")"
   ]
  },
  {
   "cell_type": "markdown",
   "metadata": {},
   "source": [
    "Lineare Regression für (p_b,T_1):"
   ]
  },
  {
   "cell_type": "code",
   "execution_count": 3,
   "metadata": {},
   "outputs": [
    {
     "name": "stdout",
     "output_type": "stream",
     "text": [
      "\\begin{tabular}{c c c}\n",
      "\\toprule\n",
      "{} &         Wert &      Fehler \\\\\n",
      "\\midrule\n",
      "Steigung m        &    24826.894 &     543.628 \\\\\n",
      "Achsenabschnitt b & -6755427.013 &  169483.333 \\\\\n",
      "\\bottomrule\n",
      "\\end{tabular}\n",
      "\n",
      "206421.9886798152\n",
      "L = (206421.989 +- 4519.968)\n"
     ]
    }
   ],
   "source": [
    "messdaten = pd.read_excel(\"messdaten.xlsx\")\n",
    "pb = messdaten.iloc[:,[4, 9]] \n",
    "np.savetxt('pb.txt', pb.values, header='T1(K) p_b(Pa)', fmt='%f')\n",
    "T1, pb = np.genfromtxt('pb.txt', unpack=True, skip_header=1)\n",
    "\n",
    "# Nicht-lineare Ausgleichsfunktion\n",
    "def g(x, a, b):\n",
    "    return a * x + b\n",
    "\n",
    "para, pcov = curve_fit(g, T1, pb)\n",
    "pcov = np.sqrt(np.diag(pcov))\n",
    "para = np.round(para, 3)\n",
    "pcov = np.round(pcov, 3)\n",
    "a, b = para\n",
    "fa, fb = pcov  \n",
    "R = 8.3144508\n",
    "\n",
    "dreg = {'Wert': para, 'Fehler': pcov}\n",
    "dfreg = pd.DataFrame(data = dreg, index = ['Steigung m', 'Achsenabschnitt b'])\n",
    "print(dfreg.to_latex(index = True, column_format= \"c c c\"))\n",
    "\n",
    "a *= R\n",
    "fa *= R \n",
    "L = a\n",
    "print(L)\n",
    "print('L = (%.3f +- %.3f)' % (a, fa))"
   ]
  },
  {
   "cell_type": "markdown",
   "metadata": {},
   "source": [
    "Differentialquotienten für 4 Temperature in tex:"
   ]
  },
  {
   "cell_type": "code",
   "execution_count": 4,
   "metadata": {},
   "outputs": [
    {
     "name": "stdout",
     "output_type": "stream",
     "text": [
      "[0.0241 0.0202 0.0162 0.0122]\n",
      "\\begin{tabular}{c c c}\n",
      "\\toprule\n",
      " Zeit t(s) &  T1(K) &  dT1/dt \\\\\n",
      "\\midrule\n",
      "     300.0 & 302.65 &  0.0241 \\\\\n",
      "     600.0 & 309.35 &  0.0202 \\\\\n",
      "     900.0 & 314.65 &  0.0162 \\\\\n",
      "    1200.0 & 318.75 &  0.0122 \\\\\n",
      "\\bottomrule\n",
      "\\end{tabular}\n",
      "\n",
      "\\begin{tabular}{c c c}\n",
      "\\toprule\n",
      " Zeit t(s) &  T2(K) &  dT2/dt \\\\\n",
      "\\midrule\n",
      "     300.0 & 288.75 & -0.0186 \\\\\n",
      "     600.0 & 283.75 & -0.0158 \\\\\n",
      "     900.0 & 279.35 & -0.0130 \\\\\n",
      "    1200.0 & 275.85 & -0.0103 \\\\\n",
      "\\bottomrule\n",
      "\\end{tabular}\n",
      "\n"
     ]
    }
   ],
   "source": [
    "import pandas as pd\n",
    "temp = messdaten.iloc[[5, 10, 15, 20],[0, 4, 5]] \n",
    "np.savetxt('temp4.txt', temp.values, header='t T1 T2', fmt='%.2f')\n",
    "t, T1, T2 = np.genfromtxt('temp4.txt', unpack=True, skip_header=1)\n",
    "\n",
    "def diff(x, a, b):\n",
    "    return 2*a*x + b\n",
    "\n",
    "dT1 = diff(t, a1, b1) \n",
    "dT1 = np.round(dT1, 4)\n",
    "print(dT1)\n",
    "\n",
    "dT2 = diff(t, a2, b2) \n",
    "dT2 = np.round(dT2, 4)\n",
    "\n",
    "d1 = {'Zeit t(s)': t, 'T1(K)': T1, 'dT1/dt': dT1} #wrs noch gaußfehler\n",
    "d2 = {'Zeit t(s)': t, 'T2(K)': T2, 'dT2/dt': dT2} #wrs noch gaußfehler\n",
    "\n",
    "df1 = pd.DataFrame(data = d1)\n",
    "df2 = pd.DataFrame(data = d2)\n",
    "\n",
    "print(df1.to_latex(index = False, column_format= \"c c c\"))\n",
    "print(df2.to_latex(index = False, column_format= \"c c c\"))"
   ]
  },
  {
   "cell_type": "markdown",
   "metadata": {},
   "source": [
    "Güteziffern in tex:"
   ]
  },
  {
   "cell_type": "code",
   "execution_count": 5,
   "metadata": {},
   "outputs": [
    {
     "name": "stdout",
     "output_type": "stream",
     "text": [
      "[88.23 82.22 78.99 81.01]\n",
      "\\begin{tabular}{c c c c}\n",
      "\\toprule\n",
      " Zeit t(s) &  Güteziffer (Theorie) &  Güteziffer (empirisch) &  Abweichung (\\%) \\\\\n",
      "\\midrule\n",
      "     300.0 &                21.773 &                   2.563 &           88.23 \\\\\n",
      "     600.0 &                12.084 &                   2.149 &           82.22 \\\\\n",
      "     900.0 &                 8.914 &                   1.873 &           78.99 \\\\\n",
      "    1200.0 &                 7.430 &                   1.411 &           81.01 \\\\\n",
      "\\bottomrule\n",
      "\\end{tabular}\n",
      "\n"
     ]
    }
   ],
   "source": [
    "messdaten = pd.read_excel(\"messdaten.xlsx\")\n",
    "leist4 = messdaten.iloc[[5, 10, 15, 20],[10]] \n",
    "np.savetxt('leist4.txt', leist4.values, header='t P(W)', fmt='%f')\n",
    "P4 = np.genfromtxt('leist4.txt', unpack=True, skip_header=1)\n",
    "\n",
    "def nuid (t1, t2):\n",
    "    return t1/(t1-t2)\n",
    "\n",
    "def nuemp (cw, ck, dt, n):\n",
    "    return (cw + ck)*dt/n\n",
    "\n",
    "CW = 12546\n",
    "CK = 750\n",
    "\n",
    "nu_id = nuid(T1, T2)\n",
    "nu_id = np.round(nu_id, 3)\n",
    "nu_emp = nuemp(CW, CK, dT1, P4)\n",
    "nu_emp = np.round(nu_emp, 3)\n",
    "\n",
    "abw = (1- nu_emp/nu_id)*100\n",
    "abw = np.round(abw, 2)\n",
    "print(abw)\n",
    "\n",
    "dnu = {'Zeit t(s)': t, 'Güteziffer (Theorie)': nu_id, 'Güteziffer (empirisch)': nu_emp, 'Abweichung (%)': abw}\n",
    "dfnu = pd.DataFrame(data = dnu)\n",
    "print(dfnu.to_latex(index = False, column_format= \"c c c c\"))"
   ]
  },
  {
   "cell_type": "markdown",
   "metadata": {},
   "source": [
    "Massendurchsatz mit L aus weiter oben:"
   ]
  },
  {
   "cell_type": "code",
   "execution_count": 6,
   "metadata": {},
   "outputs": [
    {
     "name": "stdout",
     "output_type": "stream",
     "text": [
      "[-247.3056 -210.0768 -172.848  -136.9488]\n",
      "[-0.001198 -0.001018 -0.000837 -0.000663]\n",
      "[-0.1449 -0.1231 -0.1012 -0.0802]\n",
      "\\begin{tabular}{c c c c}\n",
      "\\toprule\n",
      " Zeit t &    dQ2/dt &  dm/dt (mol/s) &  dm/dt (g/s) \\\\\n",
      "\\midrule\n",
      "  300.0 & -247.3056 &      -0.001198 &      -0.1449 \\\\\n",
      "  600.0 & -210.0768 &      -0.001018 &      -0.1231 \\\\\n",
      "  900.0 & -172.8480 &      -0.000837 &      -0.1012 \\\\\n",
      " 1200.0 & -136.9488 &      -0.000663 &      -0.0802 \\\\\n",
      "\\bottomrule\n",
      "\\end{tabular}\n",
      "\n"
     ]
    }
   ],
   "source": [
    "dQ2_dt = (CW + CK)*dT2\n",
    "print(dQ2_dt)\n",
    "\n",
    "massd = nuemp(CW, CK, dT2, L)\n",
    "massd = np.round(massd, 6)\n",
    "print(massd)\n",
    "\n",
    "cl2f2c_mol = 120.91\n",
    "massd_g = massd * cl2f2c_mol\n",
    "massd_g = np.round(massd_g, 4)\n",
    "print(massd_g)\n",
    "\n",
    "dmd = {'Zeit t': t, 'dQ2/dt': dQ2_dt, 'dm/dt (mol/s)': massd, 'dm/dt (g/s)': massd_g}\n",
    "dfmd = pd.DataFrame(data = dmd)\n",
    "print(dfmd.to_latex(index = False, column_format= \"c c c c\"))\n"
   ]
  },
  {
   "cell_type": "markdown",
   "metadata": {},
   "source": [
    "Dichte und Leistung in tex:"
   ]
  },
  {
   "cell_type": "code",
   "execution_count": 7,
   "metadata": {},
   "outputs": [
    {
     "name": "stdout",
     "output_type": "stream",
     "text": [
      "[-1.388 -1.877 -1.956 -1.884]\n",
      "\\begin{tabular}{c c c}\n",
      "\\toprule\n",
      " Zeit t(s) &  Dichte rho (g/m**3) &  Leisung N (W) \\\\\n",
      "\\midrule\n",
      "     300.0 &               23.455 &         -1.388 \\\\\n",
      "     600.0 &               20.156 &         -1.877 \\\\\n",
      "     900.0 &               18.318 &         -1.956 \\\\\n",
      "    1200.0 &               16.368 &         -1.884 \\\\\n",
      "\\bottomrule\n",
      "\\end{tabular}\n",
      "\n"
     ]
    }
   ],
   "source": [
    "druck = messdaten.iloc[[5, 10, 15, 20],[0, 5, 8, 9]] \n",
    "np.savetxt('druck.txt', druck.values, header='t T2(K) p_a p_b', fmt='%f')\n",
    "druck = np.genfromtxt('druck.txt', unpack=True, skip_header=1)\n",
    "t, T2, pa, pb = druck\n",
    "rho_0 = 5.51\n",
    "p0 = 100000\n",
    "T0 = 273.15\n",
    "k = 1.14\n",
    "\n",
    "rho = (rho_0*T0*pa)/(T2*p0)\n",
    "rho = np.round(rho, 3)\n",
    "\n",
    "N_mech = (1/(k-1)) * ((pb * (pa/pb)**(1/k)) - pa) * (1/rho) * (massd_g/1000)\n",
    "N_mech = np.round(N_mech, 3)\n",
    "\n",
    "print(N_mech)\n",
    "\n",
    "dd = {'Zeit t(s)': t, 'Dichte rho (g/m**3)': rho, 'Leisung N (W)': N_mech}\n",
    "dfd = pd.DataFrame(data = dd)\n",
    "print(dfd.to_latex(index = False, column_format= \"c c c\"))"
   ]
  }
 ],
 "metadata": {
  "interpreter": {
   "hash": "916dbcbb3f70747c44a77c7bcd40155683ae19c65e1c03b4aa3499c5328201f1"
  },
  "kernelspec": {
   "display_name": "Python 3.8.10 64-bit",
   "language": "python",
   "name": "python3"
  },
  "language_info": {
   "codemirror_mode": {
    "name": "ipython",
    "version": 3
   },
   "file_extension": ".py",
   "mimetype": "text/x-python",
   "name": "python",
   "nbconvert_exporter": "python",
   "pygments_lexer": "ipython3",
   "version": "3.8.8"
  },
  "orig_nbformat": 4
 },
 "nbformat": 4,
 "nbformat_minor": 2
}
