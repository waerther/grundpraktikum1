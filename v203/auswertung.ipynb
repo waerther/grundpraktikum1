{
 "cells": [
  {
   "cell_type": "code",
   "execution_count": 105,
   "metadata": {},
   "outputs": [],
   "source": [
    "import pandas as pd\n",
    "import matplotlib.pyplot as plt\n",
    "import numpy as np\n",
    "from scipy.optimize import curve_fit                        # popt, pcov = curve_fit(func, xdata, ydata) \n",
    "from uncertainties import ufloat                            # Fehler:           fehlerwert =  ulfaot(x, err)\n",
    "from uncertainties.unumpy import uarray                     # Array von Fehler: fehlerarray =  uarray(array, errarray)\n",
    "from uncertainties.unumpy import (nominal_values as noms,   # Wert:             noms(fehlerwert) = x\n",
    "                                  std_devs as stds)         # Abweichung:       stds(fehlerarray) = errarray\n",
    "from uncertainties import unumpy as unp \n",
    "import scipy.constants as const"
   ]
  },
  {
   "cell_type": "markdown",
   "metadata": {},
   "source": [
    "Logarithmus des Dampfdruckes gegen reziproke absolute Temperatur:"
   ]
  },
  {
   "cell_type": "code",
   "execution_count": 106,
   "metadata": {},
   "outputs": [
    {
     "name": "stdout",
     "output_type": "stream",
     "text": [
      "\\begin{tabular}{c c c}\n",
      "\\toprule\n",
      "{} &         Wert &     Fehler \\\\\n",
      "\\midrule\n",
      "Steigung m        & -3224612.412 &  54545.402 \\\\\n",
      "Achsenabschnitt b &       11.441 &      0.166 \\\\\n",
      "\\bottomrule\n",
      "\\end{tabular}\n",
      "\n",
      "L = (26810919.357 +- 453515.706)\n"
     ]
    },
    {
     "data": {
      "image/png": "[encoded data removed]",
      "text/plain": [
       "<Figure size 432x288 with 1 Axes>"
      ]
     },
     "metadata": {
      "needs_background": "light"
     },
     "output_type": "display_data"
    }
   ],
   "source": [
    "md_1bar = pd.read_csv('tables/md_1bar.csv')\n",
    "np.savetxt('tables/pb.txt', md_1bar.values, header='p_b(Pa) T1(K)', fmt='%.0f')\n",
    "pb, T = np.genfromtxt('tables/pb.txt', unpack=True, skip_header=1)\n",
    "\n",
    "pb *= 100000\n",
    "T += 273.15 \n",
    "T *= 1000     \n",
    "rT = 1/T        # reziproke absolute Temperaturen\n",
    "p0 = pb[0]      # \n",
    "xx = rT\n",
    "yy = np.log((pb/p0))\n",
    "plt.plot(xx, yy, 'xr', label = 'Messwerte')\n",
    "\n",
    "# Nicht-lineare Ausgleichsfunktion\n",
    "def g(x, a, b):\n",
    "    return a * x + b\n",
    "\n",
    "para, pcov = curve_fit(g, rT, yy)\n",
    "pcov = np.sqrt(np.diag(pcov))\n",
    "para = np.round(para, 3)\n",
    "pcov = np.round(pcov, 3)\n",
    "a, b = para\n",
    "fa, fb = pcov  \n",
    "R = 8.314462618\n",
    "\n",
    "dreg = {'Wert': para, 'Fehler': pcov}\n",
    "dfreg = pd.DataFrame(data = dreg, index = ['Steigung m', 'Achsenabschnitt b'])\n",
    "print(dfreg.to_latex(index = True, column_format= \"c c c\"))\n",
    "plt.plot(rT, g(rT, a, b), '-b', label = 'Regressionsgerade')\n",
    "\n",
    "plt.xlabel(r'$\\frac{1}{T_{1}}$ ( $\\frac{1}{10^3 \\cdot\\mathrm{K}}$ )')\n",
    "plt.ylabel(r'ln($\\frac{p_{b}}{p_{0}}$)')\n",
    "plt.legend(loc=\"best\")\n",
    "plt.grid(True)\n",
    "\n",
    "ba = -a*R\n",
    "bfa =  fa*R \n",
    "L = ba\n",
    "print('L = (%.3f +- %.3f)' % (ba, bfa))"
   ]
  }
 ],
 "metadata": {
  "interpreter": {
   "hash": "35caa7b82a3757becf5a71cac731e28ec147500c0075d0177139a56986d9e143"
  },
  "kernelspec": {
   "display_name": "Python 3.8.8 64-bit ('base': conda)",
   "language": "python",
   "name": "python3"
  },
  "language_info": {
   "codemirror_mode": {
    "name": "ipython",
    "version": 3
   },
   "file_extension": ".py",
   "mimetype": "text/x-python",
   "name": "python",
   "nbconvert_exporter": "python",
   "pygments_lexer": "ipython3",
   "version": "3.8.8"
  },
  "orig_nbformat": 4
 },
 "nbformat": 4,
 "nbformat_minor": 2
}
