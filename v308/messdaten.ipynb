{
 "cells": [
  {
   "cell_type": "code",
   "execution_count": 29,
   "metadata": {},
   "outputs": [
    {
     "name": "stdout",
     "output_type": "stream",
     "text": [
      "    x (m)  B (10e-3 T)\n",
      "0  -0.020        0.227\n",
      "1  -0.015        0.277\n",
      "2  -0.010        0.352\n",
      "3  -0.005        0.456\n",
      "4   0.000        0.600\n",
      "5   0.005        0.836\n",
      "6   0.010        1.147\n",
      "7   0.015        1.430\n",
      "8   0.020        1.700\n",
      "9   0.025        1.888\n",
      "10  0.030        2.020\n",
      "11  0.035        2.117\n",
      "12  0.040        2.180\n",
      "\n",
      "\\begin{tabular}{c c}\n",
      "\\toprule\n",
      " x (m) &  B (10e-3 T) \\\\\n",
      "\\midrule\n",
      "-0.020 &        0.227 \\\\\n",
      "-0.015 &        0.277 \\\\\n",
      "-0.010 &        0.352 \\\\\n",
      "-0.005 &        0.456 \\\\\n",
      " 0.000 &        0.600 \\\\\n",
      " 0.005 &        0.836 \\\\\n",
      " 0.010 &        1.147 \\\\\n",
      " 0.015 &        1.430 \\\\\n",
      " 0.020 &        1.700 \\\\\n",
      " 0.025 &        1.888 \\\\\n",
      " 0.030 &        2.020 \\\\\n",
      " 0.035 &        2.117 \\\\\n",
      " 0.040 &        2.180 \\\\\n",
      "\\bottomrule\n",
      "\\end{tabular}\n",
      "\n"
     ]
    }
   ],
   "source": [
    "import pandas as pd\n",
    "messdaten = pd.read_excel(\"md_lange_spule.xlsx\")\n",
    "print(messdaten)\n",
    "print()\n",
    "daten = messdaten.iloc[:,:]\n",
    "print(daten.to_latex(index = False, column_format= \"c c\", na_rep = \"-\", float_format=\"%.3f\"))"
   ]
  },
  {
   "cell_type": "code",
   "execution_count": 31,
   "metadata": {},
   "outputs": [
    {
     "name": "stderr",
     "output_type": "stream",
     "text": [
      "No handles with labels found to put in legend.\n"
     ]
    },
    {
     "data": {
      "image/png": "[encoded data removed]",
      "text/plain": [
       "<Figure size 432x288 with 1 Axes>"
      ]
     },
     "metadata": {
      "needs_background": "light"
     },
     "output_type": "display_data"
    }
   ],
   "source": [
    "import matplotlib.pyplot as plt\n",
    "\n",
    "x =[-0.020, -0.015, -0.010, -0.005, 0.000, 0.005, 0.010, 0.015, 0.020, 0.025, 0.030, 0.035, 0.040]\n",
    "y =[0.227, 0.277, 0.352, 0.456, 0.600, 0.836, 1.147, 1.430, 1.700, 1.888, 2.020, 2.117, 2.180]\n",
    "\n",
    "plt.plot(x,y, \"x\")\n",
    "plt.legend()\n",
    "plt.show()"
   ]
  }
 ],
 "metadata": {
  "interpreter": {
   "hash": "4ef32ed23c28cedd878486b9bb2ae1d1ed39a4ae162496b7d4dd2e637309db31"
  },
  "kernelspec": {
   "display_name": "Python 3.8.8 64-bit ('base': conda)",
   "language": "python",
   "name": "python3"
  },
  "language_info": {
   "codemirror_mode": {
    "name": "ipython",
    "version": 3
   },
   "file_extension": ".py",
   "mimetype": "text/x-python",
   "name": "python",
   "nbconvert_exporter": "python",
   "pygments_lexer": "ipython3",
   "version": "3.8.8"
  },
  "orig_nbformat": 4
 },
 "nbformat": 4,
 "nbformat_minor": 2
}
