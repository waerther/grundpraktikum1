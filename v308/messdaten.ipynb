{
 "cells": [
  {
   "cell_type": "code",
   "execution_count": 108,
   "metadata": {},
   "outputs": [
    {
     "name": "stdout",
     "output_type": "stream",
     "text": [
      "\\begin{tabular}{c c}\n",
      "\\toprule\n",
      " x (m) &  B (10e-3 T) \\\\\n",
      "\\midrule\n",
      "-0.020 &        0.227 \\\\\n",
      "-0.015 &        0.277 \\\\\n",
      "-0.010 &        0.352 \\\\\n",
      "-0.005 &        0.456 \\\\\n",
      " 0.000 &        0.600 \\\\\n",
      " 0.005 &        0.836 \\\\\n",
      " 0.010 &        1.147 \\\\\n",
      " 0.015 &        1.430 \\\\\n",
      " 0.020 &        1.700 \\\\\n",
      " 0.025 &        1.888 \\\\\n",
      " 0.030 &        2.020 \\\\\n",
      " 0.035 &        2.117 \\\\\n",
      " 0.040 &        2.180 \\\\\n",
      "\\bottomrule\n",
      "\\end{tabular}\n",
      "\n"
     ]
    }
   ],
   "source": [
    "import pandas as pd\n",
    "lange_spule = pd.read_excel(\"md_lange_spule.xlsx\")\n",
    "lange_spule = lange_spule.iloc[:,:]\n",
    "print(lange_spule.to_latex(index = False, column_format= \"c c\", na_rep = \"-\", float_format=\"%.3f\"))"
   ]
  },
  {
   "cell_type": "code",
   "execution_count": 109,
   "metadata": {},
   "outputs": [
    {
     "data": {
      "image/png": "[encoded data removed]",
      "text/plain": [
       "<Figure size 432x288 with 1 Axes>"
      ]
     },
     "metadata": {
      "needs_background": "light"
     },
     "output_type": "display_data"
    }
   ],
   "source": [
    "import matplotlib.pyplot as plt\n",
    "import numpy as np\n",
    "\n",
    "np.savetxt('lange_spule.txt', lange_spule.values, header='x/m mT', fmt='%f')\n",
    "x, y = np.genfromtxt('lange_spule.txt', unpack=True, skip_header=1)\n",
    "\n",
    "fig = plt.figure()\n",
    "ax = fig.add_subplot(1,1,1)\n",
    "ax.set_title('Lange Spule')\n",
    "ax.set_xlabel('x / m')\n",
    "ax.set_ylabel('B / mT')\n",
    "ax.grid()\n",
    "ax.plot(x,y, 'x', label='Messwerte')\n",
    "ax.legend()\n",
    "plt.show()"
   ]
  },
  {
   "cell_type": "code",
   "execution_count": 110,
   "metadata": {},
   "outputs": [
    {
     "name": "stdout",
     "output_type": "stream",
     "text": [
      "\\begin{tabular}{c c}\n",
      "\\toprule\n",
      " x (m) &  B (10e-3 T) \\\\\n",
      "\\midrule\n",
      "-0.030 &        1.895 \\\\\n",
      "-0.025 &        1.826 \\\\\n",
      "-0.020 &        1.764 \\\\\n",
      "-0.015 &        1.705 \\\\\n",
      "-0.010 &        1.657 \\\\\n",
      "-0.005 &        1.645 \\\\\n",
      " 0.000 &        1.632 \\\\\n",
      " 0.005 &        1.638 \\\\\n",
      " 0.010 &        1.660 \\\\\n",
      " 0.015 &        1.700 \\\\\n",
      " 0.020 &        1.754 \\\\\n",
      " 0.025 &        1.818 \\\\\n",
      " 0.030 &        1.890 \\\\\n",
      " 0.090 &        1.634 \\\\\n",
      " 0.100 &        1.390 \\\\\n",
      " 0.110 &        1.137 \\\\\n",
      " 0.120 &        0.915 \\\\\n",
      "\\bottomrule\n",
      "\\end{tabular}\n",
      "\n"
     ]
    }
   ],
   "source": [
    "helmholtzspule_12cm = pd.read_excel(\"md_helmholtzspule_12cm.xlsx\")\n",
    "helmholtzspule_12cm = helmholtzspule_12cm.iloc[:,[0,1]]\n",
    "print(helmholtzspule_12cm.to_latex(index = False, column_format= \"c c\", na_rep = \"-\", float_format=\"%.3f\"))"
   ]
  },
  {
   "cell_type": "code",
   "execution_count": 111,
   "metadata": {},
   "outputs": [
    {
     "data": {
      "image/png": "[encoded data removed]",
      "text/plain": [
       "<Figure size 432x288 with 1 Axes>"
      ]
     },
     "metadata": {
      "needs_background": "light"
     },
     "output_type": "display_data"
    }
   ],
   "source": [
    "np.savetxt('helmholtzspule_12cm.txt', helmholtzspule_12cm.values, header='x/m mT', fmt='%f')\n",
    "x, y = np.genfromtxt('helmholtzspule_12cm.txt', unpack=True, skip_header=1)\n",
    "\n",
    "fig = plt.figure()\n",
    "ax = fig.add_subplot(1,1,1)\n",
    "ax.set_title('Helmholtzspulenpaar mit d = 12cm')\n",
    "ax.set_xlabel('x / m')\n",
    "ax.set_ylabel('B / mT')\n",
    "ax.grid()\n",
    "ax.plot(x,y, 'x', label='Messwerte')\n",
    "ax.legend(loc=\"lower left\")\n",
    "plt.show()"
   ]
  },
  {
   "cell_type": "code",
   "execution_count": 112,
   "metadata": {},
   "outputs": [
    {
     "name": "stdout",
     "output_type": "stream",
     "text": [
      "\\begin{tabular}{c c}\n",
      "\\toprule\n",
      " x (m) &  B (10e-3 T) \\\\\n",
      "\\midrule\n",
      "-0.030 &        1.608 \\\\\n",
      "-0.025 &        1.520 \\\\\n",
      "-0.020 &        1.448 \\\\\n",
      "-0.015 &        1.394 \\\\\n",
      "-0.010 &        1.346 \\\\\n",
      "-0.005 &        1.322 \\\\\n",
      " 0.000 &        1.312 \\\\\n",
      " 0.005 &        1.316 \\\\\n",
      " 0.010 &        1.314 \\\\\n",
      " 0.015 &        1.375 \\\\\n",
      " 0.020 &        1.437 \\\\\n",
      " 0.025 &        1.505 \\\\\n",
      " 0.030 &        1.572 \\\\\n",
      " 0.100 &        1.596 \\\\\n",
      " 0.110 &        1.332 \\\\\n",
      " 0.120 &        1.091 \\\\\n",
      " 0.130 &        0.875 \\\\\n",
      "\\bottomrule\n",
      "\\end{tabular}\n",
      "\n"
     ]
    }
   ],
   "source": [
    "helmholtzspule_14cm = pd.read_excel(\"md_helmholtzspule_14cm.xlsx\")\n",
    "helmholtzspule_14cm = helmholtzspule_14cm.iloc[:,[0,1]]\n",
    "print(helmholtzspule_14cm.to_latex(index = False, column_format= \"c c\", na_rep = \"-\", float_format=\"%.3f\"))"
   ]
  },
  {
   "cell_type": "code",
   "execution_count": 113,
   "metadata": {},
   "outputs": [
    {
     "data": {
      "image/png": "[encoded data removed]",
      "text/plain": [
       "<Figure size 432x288 with 1 Axes>"
      ]
     },
     "metadata": {
      "needs_background": "light"
     },
     "output_type": "display_data"
    }
   ],
   "source": [
    "np.savetxt('helmholtzspule_14cm.txt', helmholtzspule_14cm.values, header='x/m mT', fmt='%f')\n",
    "x, y = np.genfromtxt('helmholtzspule_14cm.txt', unpack=True, skip_header=1)\n",
    "\n",
    "fig = plt.figure()\n",
    "ax = fig.add_subplot(1,1,1)\n",
    "ax.set_title('Helmholtzspulenpaar mit d = 14cm')\n",
    "ax.set_xlabel('x / m')\n",
    "ax.set_ylabel('B / mT')\n",
    "ax.grid()\n",
    "ax.plot(x,y, 'x', label='Messwerte')\n",
    "ax.legend()\n",
    "plt.show()"
   ]
  },
  {
   "cell_type": "code",
   "execution_count": 114,
   "metadata": {},
   "outputs": [
    {
     "name": "stdout",
     "output_type": "stream",
     "text": [
      "\\begin{tabular}{c c}\n",
      "\\toprule\n",
      " x (m) &  B (10e-3 T) \\\\\n",
      "\\midrule\n",
      "-0.030 &        1.300 \\\\\n",
      "-0.025 &        1.225 \\\\\n",
      "-0.020 &        1.160 \\\\\n",
      "-0.015 &        1.112 \\\\\n",
      "-0.010 &        1.074 \\\\\n",
      "-0.005 &        1.054 \\\\\n",
      " 0.000 &        1.044 \\\\\n",
      " 0.005 &        1.049 \\\\\n",
      " 0.010 &        1.073 \\\\\n",
      " 0.015 &        1.106 \\\\\n",
      " 0.020 &        1.156 \\\\\n",
      " 0.025 &        1.210 \\\\\n",
      " 0.030 &        1.300 \\\\\n",
      " 0.110 &        1.546 \\\\\n",
      " 0.120 &        1.295 \\\\\n",
      " 0.130 &        1.060 \\\\\n",
      " 0.140 &        0.852 \\\\\n",
      "\\bottomrule\n",
      "\\end{tabular}\n",
      "\n"
     ]
    }
   ],
   "source": [
    "helmholtzspule_16cm = pd.read_excel(\"md_helmholtzspule_16cm.xlsx\")\n",
    "helmholtzspule_16cm = helmholtzspule_16cm.iloc[:,[0,1]]\n",
    "print(helmholtzspule_16cm.to_latex(index = False, column_format= \"c c\", na_rep = \"-\", float_format=\"%.3f\"))"
   ]
  },
  {
   "cell_type": "code",
   "execution_count": 115,
   "metadata": {},
   "outputs": [
    {
     "data": {
      "image/png": "[encoded data removed]",
      "text/plain": [
       "<Figure size 432x288 with 1 Axes>"
      ]
     },
     "metadata": {
      "needs_background": "light"
     },
     "output_type": "display_data"
    }
   ],
   "source": [
    "np.savetxt('helmholtzspule_16cm.txt', helmholtzspule_16cm.values, header='x/m mT', fmt='%f')\n",
    "x, y = np.genfromtxt('helmholtzspule_16cm.txt', unpack=True, skip_header=1)\n",
    "\n",
    "fig = plt.figure()\n",
    "ax = fig.add_subplot(1,1,1)\n",
    "ax.set_title('Helmholtzspulenpaar mit d = 16cm')\n",
    "ax.set_xlabel('x / m')\n",
    "ax.set_ylabel('B / mT')\n",
    "ax.grid()\n",
    "ax.plot(x,y, 'x', label='Messwerte')\n",
    "ax.legend()\n",
    "plt.savefig('Helmholtz3.png', dpi=1000)\n",
    "plt.show()"
   ]
  },
  {
   "cell_type": "code",
   "execution_count": 116,
   "metadata": {},
   "outputs": [
    {
     "name": "stdout",
     "output_type": "stream",
     "text": [
      "\\begin{tabular}{c c}\n",
      "\\toprule\n",
      " I (A) &  B (10e-3 T) \\\\\n",
      "\\midrule\n",
      "     0 &        0.000 \\\\\n",
      "     1 &       64.900 \\\\\n",
      "     2 &      230.700 \\\\\n",
      "     3 &      351.500 \\\\\n",
      "     4 &      435.200 \\\\\n",
      "     5 &      496.800 \\\\\n",
      "     6 &      542.900 \\\\\n",
      "     7 &      582.100 \\\\\n",
      "     8 &      613.800 \\\\\n",
      "     9 &      641.500 \\\\\n",
      "    10 &      666.600 \\\\\n",
      "     9 &      653.300 \\\\\n",
      "     8 &      638.700 \\\\\n",
      "     7 &      617.800 \\\\\n",
      "     6 &      596.000 \\\\\n",
      "     5 &      565.700 \\\\\n",
      "     4 &      529.600 \\\\\n",
      "     3 &      484.400 \\\\\n",
      "     2 &      420.700 \\\\\n",
      "     1 &      300.000 \\\\\n",
      "     0 &      -86.000 \\\\\n",
      "    -1 &     -118.000 \\\\\n",
      "    -2 &     -307.800 \\\\\n",
      "    -3 &     -434.800 \\\\\n",
      "    -4 &     -525.400 \\\\\n",
      "    -5 &     -579.900 \\\\\n",
      "    -6 &     -588.300 \\\\\n",
      "    -7 &     -625.000 \\\\\n",
      "    -8 &     -657.200 \\\\\n",
      "    -9 &     -684.900 \\\\\n",
      "   -10 &     -714.100 \\\\\n",
      "    -9 &     -696.900 \\\\\n",
      "    -8 &     -679.200 \\\\\n",
      "    -7 &     -661.400 \\\\\n",
      "    -6 &     -637.900 \\\\\n",
      "    -5 &     -610.000 \\\\\n",
      "    -4 &     -576.000 \\\\\n",
      "    -3 &     -535.200 \\\\\n",
      "    -2 &     -471.400 \\\\\n",
      "    -1 &     -345.300 \\\\\n",
      "     0 &     -134.300 \\\\\n",
      "     1 &       75.500 \\\\\n",
      "     2 &      258.700 \\\\\n",
      "     3 &      388.600 \\\\\n",
      "     4 &      480.800 \\\\\n",
      "     5 &      543.100 \\\\\n",
      "     6 &      586.900 \\\\\n",
      "     7 &      626.700 \\\\\n",
      "     8 &      659.000 \\\\\n",
      "     9 &      686.400 \\\\\n",
      "    10 &      711.800 \\\\\n",
      "\\bottomrule\n",
      "\\end{tabular}\n",
      "\n"
     ]
    }
   ],
   "source": [
    "toroidspule = pd.read_excel(\"md_toroidspule.xlsx\")\n",
    "toroidspule = toroidspule.iloc[:,[0,1]]\n",
    "print(toroidspule.to_latex(index = False, column_format= \"c c\", na_rep = \"-\", float_format=\"%.3f\"))"
   ]
  },
  {
   "cell_type": "code",
   "execution_count": 117,
   "metadata": {},
   "outputs": [
    {
     "data": {
      "image/png": "[encoded data removed]",
      "text/plain": [
       "<Figure size 432x288 with 1 Axes>"
      ]
     },
     "metadata": {
      "needs_background": "light"
     },
     "output_type": "display_data"
    }
   ],
   "source": [
    "#x = [ 0, 1,  2,  3,  4,  5,  6,  7,  8,  9, 10,  9,  8,  7,  6,  5,  4,  3,  2,  1,  0, -1, -2, -3, -4, -5, -6, -7, -8, -9, 10, -9, -8, -7, -6, -5, -4, -3, -2, -1,  0,  1,  2,  3,  4,  5,  6,  7,  8,  9, 10]\n",
    "#y = [ 0.000, 64.900,  230.700,  351.500,  435.200,  496.800,  542.900,  582.100,  613.800,  641.500,  666.600,  653.300,  638.700,  617.800,  596.000,  565.700,  529.600,  484.400,  420.700,  300.000,  -86.000, -118.000, -307.800, -434.800, -525.400, -579.900, -588.300, -625.000, -657.200, -684.900, -714.100, -696.900, -679.200, -661.400, -637.900, -610.000, -576.000, -535.200, -471.400, -345.300, -134.300,   75.500,  258.700,  388.600,  480.800,  543.100,  586.900,  626.700,  659.000,  686.400,  711.800]\n",
    "x = [9,  8,  7,  6,  5,  4,  3,  2,  1,  0, -1, -2, -3, -4, -5, -6, -7, -8, -9, -10, -9, -8, -7, -6, -5, -4, -3, -2, -1,  0,  1,  2,  3,  4,  5,  6,  7,  8,  9, 10]\n",
    "y = [653.300,  638.700,  617.800,  596.000,  565.700,  529.600,  484.400,  420.700,  300.000,  -86.000, -118.000, -307.800, -434.800, -525.400, -579.900, -588.300, -625.000, -657.200, -684.900, -714.100, -696.900, -679.200, -661.400, -637.900, -610.000, -576.000, -535.200, -471.400, -345.300, -134.300,   75.500,  258.700,  388.600,  480.800,  543.100,  586.900,  626.700,  659.000,  686.400,  711.800]\n",
    "x1 =[0, 1,  2,  3,  4,  5,  6,  7,  8,  9, 10]\n",
    "y2 =[0.000, 64.900,  230.700,  351.500,  435.200,  496.800,  542.900,  582.100,  613.800,  641.500, 666.600]\n",
    "\n",
    "fig = plt.figure()\n",
    "ax = fig.add_subplot(1,1,1)\n",
    "ax.set_title('Hysteresekurve')\n",
    "ax.set_xlabel('I / A')\n",
    "ax.set_ylabel('B / mT')\n",
    "ax.grid()\n",
    "ax.plot(x,y, 'x', label='Messwerte')\n",
    "ax.plot(x1,y2,'ro', label='Neukurve')\n",
    "ax.legend()\n",
    "plt.show()"
   ]
  }
 ],
 "metadata": {
  "interpreter": {
   "hash": "4ef32ed23c28cedd878486b9bb2ae1d1ed39a4ae162496b7d4dd2e637309db31"
  },
  "kernelspec": {
   "display_name": "Python 3.8.8 64-bit ('base': conda)",
   "language": "python",
   "name": "python3"
  },
  "language_info": {
   "codemirror_mode": {
    "name": "ipython",
    "version": 3
   },
   "file_extension": ".py",
   "mimetype": "text/x-python",
   "name": "python",
   "nbconvert_exporter": "python",
   "pygments_lexer": "ipython3",
   "version": "3.8.8"
  },
  "orig_nbformat": 4
 },
 "nbformat": 4,
 "nbformat_minor": 2
}
