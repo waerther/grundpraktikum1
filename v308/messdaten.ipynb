{
 "cells": [
  {
   "cell_type": "code",
   "execution_count": null,
   "metadata": {},
   "outputs": [],
   "source": [
    "import pandas as pd\n",
    "messdaten = pd.read_excel(\"md_lange_spule.xlsx\")\n",
    "print(messdaten)\n",
    "print()\n",
    "daten = messdaten.iloc[:,:]\n",
    "print(daten.to_latex(index = False, column_format= \"c c\", na_rep = \"-\", float_format=\"%.3f\"))"
   ]
  },
  {
   "cell_type": "code",
   "execution_count": 31,
   "metadata": {},
   "outputs": [
    {
     "name": "stderr",
     "output_type": "stream",
     "text": [
      "No handles with labels found to put in legend.\n"
     ]
    },
    {
     "data": {
      "image/png": "[encoded data removed]",
      "text/plain": [
       "<Figure size 432x288 with 1 Axes>"
      ]
     },
     "metadata": {
      "needs_background": "light"
     },
     "output_type": "display_data"
    }
   ],
   "source": [
    "import matplotlib.pyplot as plt\n",
    "\n",
    "x =[-0.020, -0.015, -0.010, -0.005, 0.000, 0.005, 0.010, 0.015, 0.020, 0.025, 0.030, 0.035, 0.040]\n",
    "y =[0.227, 0.277, 0.352, 0.456, 0.600, 0.836, 1.147, 1.430, 1.700, 1.888, 2.020, 2.117, 2.180]\n",
    "\n",
    "plt.plot(x,y, \"x\")\n",
    "plt.legend()\n",
    "plt.show()"
   ]
  },
  {
   "cell_type": "code",
   "execution_count": null,
   "metadata": {},
   "outputs": [],
   "source": [
    "import pandas as pd\n",
    "messdaten = pd.read_excel(\"md_helmholtzspule_12cm.xlsx\")\n",
    "daten = messdaten.iloc[:,:]\n",
    "print(daten.to_latex(index = False, column_format= \"c c\", na_rep = \"-\", float_format=\"%.3f\"))"
   ]
  },
  {
   "cell_type": "code",
   "execution_count": 4,
   "metadata": {},
   "outputs": [
    {
     "data": {
      "image/png": "[encoded data removed]",
      "text/plain": [
       "<Figure size 432x288 with 1 Axes>"
      ]
     },
     "metadata": {
      "needs_background": "light"
     },
     "output_type": "display_data"
    }
   ],
   "source": [
    "import matplotlib.pyplot as plt\n",
    "\n",
    "x =[-0.030, -0.025, -0.020, -0.015, -0.010, -0.005,  0.000,  0.005,  0.010,  0.015,  0.020,  0.025,  0.030,  0.090,  0.100,  0.110,  0.120] \n",
    "y =[1.895, 1.826, 1.764, 1.705, 1.657, 1.645, 1.632, 1.638, 1.660, 1.700, 1.754, 1.818, 1.890, 1.634, 1.390, 1.137, 0.915]\n",
    "\n",
    "plt.plot(x,y, \"x\")\n",
    "#plt.legend()\n",
    "plt.show()"
   ]
  },
  {
   "cell_type": "code",
   "execution_count": null,
   "metadata": {},
   "outputs": [],
   "source": [
    "import pandas as pd\n",
    "messdaten = pd.read_excel(\"md_helmholtzspule_14cm.xlsx\")\n",
    "daten = messdaten.iloc[:,:]\n",
    "print(daten.to_latex(index = False, column_format= \"c c\", na_rep = \"-\", float_format=\"%.3f\"))"
   ]
  },
  {
   "cell_type": "code",
   "execution_count": 5,
   "metadata": {},
   "outputs": [
    {
     "data": {
      "image/png": "[encoded data removed]",
      "text/plain": [
       "<Figure size 432x288 with 1 Axes>"
      ]
     },
     "metadata": {
      "needs_background": "light"
     },
     "output_type": "display_data"
    }
   ],
   "source": [
    "import matplotlib.pyplot as plt\n",
    "\n",
    "x = [-0.030, -0.025, -0.020, -0.015, -0.010, -0.005,  0.000,  0.005,  0.010,  0.015,  0.020,  0.025,  0.030,  0.100,  0.110,  0.120,  0.130]\n",
    "y = [1.608, 1.520, 1.448, 1.394, 1.346, 1.322, 1.312, 1.316, 1.314, 1.375, 1.437, 1.505, 1.572, 1.596, 1.332, 1.091, 0.875]\n",
    "\n",
    "plt.plot(x,y, \"x\")\n",
    "#plt.legend()\n",
    "plt.show()"
   ]
  },
  {
   "cell_type": "code",
   "execution_count": null,
   "metadata": {},
   "outputs": [],
   "source": [
    "import pandas as pd\n",
    "messdaten = pd.read_excel(\"md_helmholtzspule_16cm.xlsx\")\n",
    "daten = messdaten.iloc[:,:]\n",
    "print(daten.to_latex(index = False, column_format= \"c c\", na_rep = \"-\", float_format=\"%.3f\"))"
   ]
  },
  {
   "cell_type": "code",
   "execution_count": 6,
   "metadata": {},
   "outputs": [
    {
     "data": {
      "image/png": "[encoded data removed]",
      "text/plain": [
       "<Figure size 432x288 with 1 Axes>"
      ]
     },
     "metadata": {
      "needs_background": "light"
     },
     "output_type": "display_data"
    }
   ],
   "source": [
    "import matplotlib.pyplot as plt\n",
    "\n",
    "x = [-0.030, -0.025, -0.020, -0.015, -0.010, -0.005,  0.000,  0.005,  0.010,  0.015,  0.020,  0.025,  0.030,  0.110,  0.120,  0.130,  0.140]\n",
    "y = [1.300, 1.225, 1.160, 1.112, 1.074, 1.054, 1.044, 1.049, 1.073, 1.106, 1.156, 1.210, 1.300, 1.546, 1.295, 1.060, 0.852]\n",
    "\n",
    "plt.plot(x,y, \"x\")\n",
    "#plt.legend()\n",
    "plt.show()"
   ]
  },
  {
   "cell_type": "code",
   "execution_count": 7,
   "metadata": {},
   "outputs": [
    {
     "name": "stdout",
     "output_type": "stream",
     "text": [
      "\\begin{tabular}{c c}\n",
      "\\toprule\n",
      " I (A) &  B (10e-3 T) & Unnamed: 2 \\\\\n",
      "\\midrule\n",
      "     0 &        0.000 &          - \\\\\n",
      "     1 &       64.900 &          - \\\\\n",
      "     2 &      230.700 &          - \\\\\n",
      "     3 &      351.500 &          - \\\\\n",
      "     4 &      435.200 &          - \\\\\n",
      "     5 &      496.800 &          - \\\\\n",
      "     6 &      542.900 &          - \\\\\n",
      "     7 &      582.100 &          - \\\\\n",
      "     8 &      613.800 &          - \\\\\n",
      "     9 &      641.500 &          - \\\\\n",
      "    10 &      666.600 &          - \\\\\n",
      "     9 &      653.300 &          - \\\\\n",
      "     8 &      638.700 &          - \\\\\n",
      "     7 &      617.800 &          - \\\\\n",
      "     6 &      596.000 &          - \\\\\n",
      "     5 &      565.700 &          - \\\\\n",
      "     4 &      529.600 &          - \\\\\n",
      "     3 &      484.400 &          - \\\\\n",
      "     2 &      420.700 &          - \\\\\n",
      "     1 &      300.000 &          - \\\\\n",
      "     0 &      -86.000 &          - \\\\\n",
      "    -1 &     -118.000 &          - \\\\\n",
      "    -2 &     -307.800 &          - \\\\\n",
      "    -3 &     -434.800 &          - \\\\\n",
      "    -4 &     -525.400 &          - \\\\\n",
      "    -5 &     -579.900 &          - \\\\\n",
      "    -6 &     -588.300 &          - \\\\\n",
      "    -7 &     -625.000 &          - \\\\\n",
      "    -8 &     -657.200 &          - \\\\\n",
      "    -9 &     -684.900 &          - \\\\\n",
      "   -10 &     -714.100 &          - \\\\\n",
      "    -9 &     -696.900 &       nice \\\\\n",
      "    -8 &     -679.200 &          - \\\\\n",
      "    -7 &     -661.400 &          - \\\\\n",
      "    -6 &     -637.900 &          - \\\\\n",
      "    -5 &     -610.000 &          - \\\\\n",
      "    -4 &     -576.000 &          - \\\\\n",
      "    -3 &     -535.200 &          - \\\\\n",
      "    -2 &     -471.400 &          - \\\\\n",
      "    -1 &     -345.300 &          - \\\\\n",
      "     0 &     -134.300 &          - \\\\\n",
      "     1 &       75.500 &          - \\\\\n",
      "     2 &      258.700 &          - \\\\\n",
      "     3 &      388.600 &          - \\\\\n",
      "     4 &      480.800 &          - \\\\\n",
      "     5 &      543.100 &          - \\\\\n",
      "     6 &      586.900 &          - \\\\\n",
      "     7 &      626.700 &          - \\\\\n",
      "     8 &      659.000 &          - \\\\\n",
      "     9 &      686.400 &          - \\\\\n",
      "    10 &      711.800 &          - \\\\\n",
      "\\bottomrule\n",
      "\\end{tabular}\n",
      "\n"
     ]
    }
   ],
   "source": [
    "#Toroidspule\n",
    "\n",
    "import pandas as pd\n",
    "messdaten = pd.read_excel(\"md_toroidspule.xlsx\")\n",
    "daten = messdaten.iloc[:,:]\n",
    "print(daten.to_latex(index = False, column_format= \"c c\", na_rep = \"-\", float_format=\"%.3f\"))"
   ]
  },
  {
   "cell_type": "code",
   "execution_count": 8,
   "metadata": {},
   "outputs": [
    {
     "data": {
      "image/png": "[encoded data removed]",
      "text/plain": [
       "<Figure size 432x288 with 1 Axes>"
      ]
     },
     "metadata": {
      "needs_background": "light"
     },
     "output_type": "display_data"
    }
   ],
   "source": [
    "import matplotlib.pyplot as plt\n",
    "\n",
    "x = [ 0, 1,  2,  3,  4,  5,  6,  7,  8,  9, 10,  9,  8,  7,  6,  5,  4,  3,  2,  1,  0, -1, -2, -3, -4, -5, -6, -7, -8, -9, 10, -9, -8, -7, -6, -5, -4, -3, -2, -1,  0,  1,  2,  3,  4,  5,  6,  7,  8,  9, 10]\n",
    "y = [ 0.000, 64.900,  230.700,  351.500,  435.200,  496.800,  542.900,  582.100,  613.800,  641.500,  666.600,  653.300,  638.700,  617.800,  596.000,  565.700,  529.600,  484.400,  420.700,  300.000,  -86.000, -118.000, -307.800, -434.800, -525.400, -579.900, -588.300, -625.000, -657.200, -684.900, -714.100, -696.900, -679.200, -661.400, -637.900, -610.000, -576.000, -535.200, -471.400, -345.300, -134.300,   75.500,  258.700,  388.600,  480.800,  543.100,  586.900,  626.700,  659.000,  686.400,  711.800]\n",
    "\n",
    "plt.plot(x,y, \"x\")\n",
    "#plt.legend()\n",
    "plt.show()"
   ]
  }
 ],
 "metadata": {
  "interpreter": {
   "hash": "4ef32ed23c28cedd878486b9bb2ae1d1ed39a4ae162496b7d4dd2e637309db31"
  },
  "kernelspec": {
   "display_name": "Python 3.8.8 64-bit ('base': conda)",
   "language": "python",
   "name": "python3"
  },
  "language_info": {
   "codemirror_mode": {
    "name": "ipython",
    "version": 3
   },
   "file_extension": ".py",
   "mimetype": "text/x-python",
   "name": "python",
   "nbconvert_exporter": "python",
   "pygments_lexer": "ipython3",
   "version": "3.8.8"
  },
  "orig_nbformat": 4
 },
 "nbformat": 4,
 "nbformat_minor": 2
}
