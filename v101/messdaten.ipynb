{
 "cells": [
  {
   "cell_type": "code",
   "execution_count": 68,
   "metadata": {},
   "outputs": [
    {
     "name": "stdout",
     "output_type": "stream",
     "text": [
      "0.002952928161464375\n"
     ]
    }
   ],
   "source": [
    "import pandas as pd\n",
    "import numpy as np\n",
    "winkelr = pd.read_excel(\"md_winkelrichtgröße.xlsx\")\n",
    "winkelr = winkelr.iloc[:,:]\n",
    "#print(lange_spule.to_latex(index = False, column_format= \"c c\", na_rep = \"-\", float_format=\"%.3f\"))\n",
    "\n",
    "mittelwert = np.mean(winkelr)\n",
    "#print(mittelwert)\n",
    "\n",
    "def winkelricht(F, r, phi): #Phi in Winkel\n",
    "    D = (F*r) / (phi * (np.pi) / 180)\n",
    "    return D\n",
    "\n",
    "arr = pd.DataFrame(winkelr).to_numpy()\n",
    "phi = arr[:,0]\n",
    "F = arr[:,1]\n",
    "\n",
    "D = winkelricht(F,0.2,phi)\n",
    "D = np.transpose(D)\n",
    "mittelwertD = np.mean(D)\n",
    "standartabw = np.std(D)\n",
    "#print(mittelwertD)\n",
    "print(standartabw)\n",
    "#np.savetxt('WinkelrichtgrößeWerte.txt', D, fmt='%f')"
   ]
  }
 ],
 "metadata": {
  "interpreter": {
   "hash": "4ef32ed23c28cedd878486b9bb2ae1d1ed39a4ae162496b7d4dd2e637309db31"
  },
  "kernelspec": {
   "display_name": "Python 3.8.8 64-bit ('base': conda)",
   "language": "python",
   "name": "python3"
  },
  "language_info": {
   "codemirror_mode": {
    "name": "ipython",
    "version": 3
   },
   "file_extension": ".py",
   "mimetype": "text/x-python",
   "name": "python",
   "nbconvert_exporter": "python",
   "pygments_lexer": "ipython3",
   "version": "3.8.8"
  },
  "orig_nbformat": 4
 },
 "nbformat": 4,
 "nbformat_minor": 2
}
