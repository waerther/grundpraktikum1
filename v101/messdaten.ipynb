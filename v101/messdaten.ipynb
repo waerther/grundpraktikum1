{
 "cells": [
  {
   "cell_type": "code",
   "execution_count": 68,
   "metadata": {},
   "outputs": [
    {
     "name": "stdout",
     "output_type": "stream",
     "text": [
      "0.002952928161464375\n"
     ]
    }
   ],
   "source": [
    "import pandas as pd\n",
    "import numpy as np\n",
    "winkelr = pd.read_excel(\"md_winkelrichtgröße.xlsx\")\n",
    "winkelr = winkelr.iloc[:,:]\n",
    "#print(lange_spule.to_latex(index = False, column_format= \"c c\", na_rep = \"-\", float_format=\"%.3f\"))\n",
    "\n",
    "mittelwert = np.mean(winkelr)\n",
    "#print(mittelwert)\n",
    "\n",
    "def winkelricht(F, r, phi): #Phi in Winkel\n",
    "    D = (F*r) / (phi * (np.pi) / 180)\n",
    "    return D\n",
    "\n",
    "arr = pd.DataFrame(winkelr).to_numpy()\n",
    "phi = arr[:,0]\n",
    "F = arr[:,1]\n",
    "\n",
    "D = winkelricht(F,0.2,phi)\n",
    "D = np.transpose(D)\n",
    "mittelwertD = np.mean(D)\n",
    "standartabw = np.std(D)\n",
    "#print(mittelwertD)\n",
    "print(standartabw)\n",
    "#np.savetxt('WinkelrichtgrößeWerte.txt', D, fmt='%f')"
   ]
  },
  {
   "cell_type": "code",
   "execution_count": 17,
   "metadata": {},
   "outputs": [
    {
     "name": "stdout",
     "output_type": "stream",
     "text": [
      "\\begin{tabular}{c c c c}\n",
      "\\toprule\n",
      "    0 &     1 &     2 &      3 \\\\\n",
      "\\midrule\n",
      "0.050 & 2.750 & 0.003 &  7.562 \\\\\n",
      "0.075 & 3.100 & 0.006 &  9.610 \\\\\n",
      "0.100 & 3.800 & 0.010 & 14.440 \\\\\n",
      "0.125 & 4.100 & 0.016 & 16.810 \\\\\n",
      "0.150 & 4.750 & 0.022 & 22.562 \\\\\n",
      "0.175 & 5.300 & 0.031 & 28.090 \\\\\n",
      "0.200 & 5.800 & 0.040 & 33.640 \\\\\n",
      "0.225 & 6.600 & 0.051 & 43.560 \\\\\n",
      "0.250 & 7.150 & 0.062 & 51.123 \\\\\n",
      "0.275 & 7.800 & 0.076 & 60.840 \\\\\n",
      "\\bottomrule\n",
      "\\end{tabular}\n",
      "\n"
     ]
    }
   ],
   "source": [
    "import pandas as pd\n",
    "import numpy as np\n",
    "\n",
    "np.set_printoptions(suppress=True)\n",
    "\n",
    "abstand = pd.read_excel(\"md_eigenträgheitsmoment.xlsx\")\n",
    "abstand = abstand.iloc[:,:]\n",
    "#print(abstand.to_latex(index = False, column_format= \"c c\", na_rep = \"-\", float_format=\"%.3f\"))\n",
    "arr = pd.DataFrame(abstand).to_numpy()\n",
    "\n",
    "arr2  = np.square(arr)\n",
    "r2 = arr2[:,0]\n",
    "T2 = arr2[:,1]\n",
    "arr = np.c_[arr, r2, T2]\n",
    "\n",
    "arr =  pd.DataFrame(data=arr)\n",
    "print(arr.to_latex(index = False, column_format= \"c c c c\", na_rep = \"-\", float_format=\"%.3f\"))\n"
   ]
  },
  {
   "cell_type": "code",
   "execution_count": 81,
   "metadata": {},
   "outputs": [
    {
     "name": "stdout",
     "output_type": "stream",
     "text": [
      "a = 724.885 ± 10.115\n",
      "b = 5.945 ± 0.400\n"
     ]
    },
    {
     "data": {
      "image/png": "[encoded data removed]",
      "text/plain": [
       "<Figure size 432x288 with 1 Axes>"
      ]
     },
     "metadata": {
      "needs_background": "light"
     },
     "output_type": "display_data"
    }
   ],
   "source": [
    "# Lineare Regression\n",
    "import pandas as pd\n",
    "import numpy as np\n",
    "import matplotlib.pyplot as plt\n",
    "import os\n",
    "np.set_printoptions(suppress=True)\n",
    "\n",
    "#Daten\n",
    "abstand = pd.read_excel(\"md_eigenträgheitsmoment.xlsx\")\n",
    "abstand = abstand.iloc[:,:]\n",
    "arr = pd.DataFrame(abstand).to_numpy()\n",
    "arr2  = np.square(arr)\n",
    "r2 = arr2[:,0]\n",
    "T2 = arr2[:,1]\n",
    "\n",
    "#Ausgleichsrechnung\n",
    "\n",
    "params, covariance_matrix = np.polyfit(r2, T2, deg=1, cov=True)\n",
    "\n",
    "errors = np.sqrt(np.diag(covariance_matrix))\n",
    "\n",
    "for name, value, error in zip('ab', params, errors):\n",
    "    print(f'{name} = {value:.3f} ± {error:.3f}')\n",
    "\n",
    "\n",
    "x_plot = np.linspace(0, 0.08)\n",
    "plt.plot(r2,T2,'x', label=\"Messwerte\", zorder=2)\n",
    "plt.plot(\n",
    "    x_plot,\n",
    "    params[0] * x_plot + params[1],\n",
    "    label='Lineare Regression',\n",
    "    linewidth=3,\n",
    "    zorder=1,\n",
    ")\n",
    "plt.xlabel(r'$r^2 / m^2$')\n",
    "plt.ylabel(r'$T^2 / s^2$')\n",
    "plt.legend(loc=\"best\")\n",
    "\n",
    "#Speichern des Plots (und überprüfen ob schon vorhanden)\n",
    "path = '/pictures/'\n",
    "if os.path.exists('Lineare Regression.pdf'):\n",
    "    os.remove('Lineare Regression.pdf')\n",
    "plt.savefig('pictures/Lineare Regression.pdf')"
   ]
  },
  {
   "cell_type": "code",
   "execution_count": 77,
   "metadata": {},
   "outputs": [
    {
     "name": "stdout",
     "output_type": "stream",
     "text": [
      "[0.8  0.75 0.76 0.72 0.75 0.74 0.74 0.79 0.75 0.78]\n",
      "Mittelwert:  0.7580000000000001\n",
      "Standartabweichung:  0.02357965224510321\n"
     ]
    }
   ],
   "source": [
    "import pandas as pd\n",
    "import numpy as np\n",
    "zylper = pd.read_excel(\"md_periodendauer_zylinder.xlsx\")\n",
    "zylper = zylper.iloc[:,:]\n",
    "#print(zylper.to_latex(index = False, column_format= \"c c\", na_rep = \"-\", float_format=\"%.3f\"))\n",
    "\n",
    "arr = pd.DataFrame(zylper).to_numpy()\n",
    "Twerte = arr[:,1]\n",
    "print(\"Mittelwert: \", np.mean(Twerte))\n",
    "print(\"Standartabweichung: \", np.std(Twerte))"
   ]
  },
  {
   "cell_type": "code",
   "execution_count": 82,
   "metadata": {},
   "outputs": [
    {
     "name": "stdout",
     "output_type": "stream",
     "text": [
      "\\begin{tabular}{c c}\n",
      "\\toprule\n",
      " Unnamed: 0 &  T / \\textbackslash second \\\\\n",
      "\\midrule\n",
      "          1 &        1.770 \\\\\n",
      "          2 &        1.900 \\\\\n",
      "          3 &        1.850 \\\\\n",
      "          4 &        1.800 \\\\\n",
      "          5 &        1.800 \\\\\n",
      "          6 &        1.800 \\\\\n",
      "          7 &        1.900 \\\\\n",
      "          8 &        1.850 \\\\\n",
      "          9 &        1.880 \\\\\n",
      "         10 &        1.870 \\\\\n",
      "\\bottomrule\n",
      "\\end{tabular}\n",
      "\n",
      "Mittelwert:  1.842\n",
      "Standartabweichung:  0.044226688774991925\n"
     ]
    }
   ],
   "source": [
    "import pandas as pd\n",
    "import numpy as np\n",
    "kugper = pd.read_excel(\"md_periodendauer_kugel.xlsx\")\n",
    "kugper = kugper.iloc[:,:]\n",
    "print(kugper.to_latex(index = False, column_format= \"c c\", na_rep = \"-\", float_format=\"%.3f\"))\n",
    "\n",
    "arr = pd.DataFrame(kugper).to_numpy()\n",
    "Twerte = arr[:,1]\n",
    "print(\"Mittelwert: \", np.mean(Twerte))\n",
    "print(\"Standartabweichung: \", np.std(Twerte))"
   ]
  },
  {
   "cell_type": "code",
   "execution_count": 20,
   "metadata": {},
   "outputs": [
    {
     "name": "stdout",
     "output_type": "stream",
     "text": [
      "\\begin{tabular}{rrrrrrr}\n",
      "\\toprule\n",
      "    0 &     1 &     2 &     3 &     4 &     5 &     6 \\\\\n",
      "\\midrule\n",
      "1.710 & 1.498 & 1.294 & 1.306 & 3.938 & 3.746 & 2.676 \\\\\n",
      "0.109 & 0.157 & 0.063 & 0.081 & 0.373 & 0.849 & 0.245 \\\\\n",
      "\\bottomrule\n",
      "\\end{tabular}\n",
      "\n"
     ]
    }
   ],
   "source": [
    "#Abmessungen Puppe\n",
    "\n",
    "import pandas as pd\n",
    "import numpy as np\n",
    "puppeabm = pd.read_excel(\"md_abmessung_puppe.xlsx\")\n",
    "#puppeabm = puppeabm.iloc[:,5:]\n",
    "#print(puppeabm.to_latex(index = False))\n",
    "\n",
    "arr = pd.DataFrame(puppeabm).to_numpy()\n",
    "Maße = arr[1:,1:]\n",
    "mittelarr = np.zeros(2)\n",
    "for i in range(7):\n",
    "    #print(\"Mittelwert: \", np.mean(Maße[:,i]))\n",
    "    #print(\"Standartabweichung: \", np.std(Maße[:,i]))\n",
    "    vec = [np.mean(Maße[:,i]), np.std(Maße[:,i])]\n",
    "    mittelarr = np.c_[mittelarr, vec]\n",
    "\n",
    "mittelarr = mittelarr[:,1:]\n",
    "mittelarr =  pd.DataFrame(data=mittelarr)\n",
    "print(mittelarr.to_latex(index = False, float_format=\"%.3f\"))\n"
   ]
  },
  {
   "cell_type": "code",
   "execution_count": 71,
   "metadata": {},
   "outputs": [
    {
     "name": "stdout",
     "output_type": "stream",
     "text": [
      "\\begin{tabular}{rrrrrrr}\n",
      "\\toprule\n",
      "        0 &         1 &        2 &        3 &         4 &         5 &         6 \\\\\n",
      "\\midrule\n",
      "13.164012 & 10.102287 & 6.849035 & 6.976654 & 47.793662 & 43.246845 & 10.596026 \\\\\n",
      " 1.675321 &  2.110987 & 0.668167 & 0.864282 &  9.056683 & 19.592513 &  1.940859 \\\\\n",
      "\\bottomrule\n",
      "\\end{tabular}\n",
      " None\n"
     ]
    }
   ],
   "source": [
    "############################################################################################################################\n",
    "############################################################################################################################\n",
    "############################################################################################################################\n",
    "############################################################################################################################\n",
    "############################################################################################################################\n",
    "################################################# Jetzt wirds eklig ########################################################\n",
    "############################################# Volumenberechnung der Gliedmaßen #############################################\n",
    "\n",
    "# Formeln\n",
    "\n",
    "def volzyl(r,h):                                    #Volumen Zylinder\n",
    "    rtn  = np.pi * r**2 * h\n",
    "    return rtn\n",
    "\n",
    "def fehlervolzyl(r, h, rabw):                       #Fehler vom Volumen des Zylinders\n",
    "    feh = np.sqrt((2 * np.pi * h * r * rabw)**2)\n",
    "    return feh\n",
    "\n",
    "def volkug(r):                                      #Volumen Kugel\n",
    "    rtn = (4/3) * np.pi * r**3\n",
    "    return rtn\n",
    "\n",
    "def fehlervolkug(r, rabw):                          #Fehler vom Volumen der Kugel\n",
    "    feh = np.sqrt((r * np.pi * r**2 * rabw)**2)\n",
    "\n",
    "#Daten importierten\n",
    "\n",
    "import pandas as pd\n",
    "import numpy as np\n",
    "puppeabm = pd.read_excel(\"md_abmessung_puppe.xlsx\")\n",
    "\n",
    "arr = pd.DataFrame(puppeabm).to_numpy()\n",
    "Maße = arr[1:,1:]\n",
    "mittelarr = np.zeros(2)\n",
    "for i in range(7):\n",
    "    #print(\"Mittelwert: \", np.mean(Maße[:,i]))\n",
    "    #print(\"Standartabweichung: \", np.std(Maße[:,i]))\n",
    "    vec = [np.mean(Maße[:,i]), np.std(Maße[:,i])]\n",
    "    mittelarr = np.c_[mittelarr, vec]\n",
    "\n",
    "mittelarr = mittelarr[:,1:]             # Überflüssige Zeile loswerden\n",
    "mittelarr = mittelarr * 10**(-2)        # In Meter umwandeln\n",
    "\n",
    "hvec = [0.1433, 0.1433, 0.1302, 0.1302, 0.0981, 0.0981, 0.0471]\n",
    "V1 = np.zeros(1)\n",
    "Vfeh  = np.zeros(1)\n",
    "for i in range(np.size(hvec)):\n",
    "    V1 = np.c_[V1, volzyl(mittelarr[0,i], hvec[i])]\n",
    "    Vfeh = np.c_[Vfeh, fehlervolzyl(mittelarr[0,i], hvec[i], mittelarr[1,i])]\n",
    "V1 = V1[:,1:]\n",
    "Vfeh = Vfeh[:,1:]\n",
    "vec = np.concatenate((V1, Vfeh), axis=0)\n",
    "\n",
    "vec =  pd.DataFrame(data=vec)\n",
    "vec = vec * 100000\n",
    "print(vec.to_latex(index = False), np.set_printoptions(suppress=False))"
   ]
  }
 ],
 "metadata": {
  "interpreter": {
   "hash": "4ef32ed23c28cedd878486b9bb2ae1d1ed39a4ae162496b7d4dd2e637309db31"
  },
  "kernelspec": {
   "display_name": "Python 3.8.8 64-bit ('base': conda)",
   "language": "python",
   "name": "python3"
  },
  "language_info": {
   "codemirror_mode": {
    "name": "ipython",
    "version": 3
   },
   "file_extension": ".py",
   "mimetype": "text/x-python",
   "name": "python",
   "nbconvert_exporter": "python",
   "pygments_lexer": "ipython3",
   "version": "3.8.8"
  },
  "orig_nbformat": 4
 },
 "nbformat": 4,
 "nbformat_minor": 2
}
