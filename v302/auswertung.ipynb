{
 "cells": [
  {
   "cell_type": "code",
   "execution_count": 110,
   "metadata": {},
   "outputs": [],
   "source": [
    "import pandas as pd\n",
    "import matplotlib.pyplot as plt\n",
    "import numpy as np\n",
    "from scipy.optimize import curve_fit                        # Funktionsfit:     popt, pcov = curve_fit(func, xdata, ydata) \n",
    "from uncertainties import ufloat                            # Fehler:           fehlerwert =  ulfaot(x, err)\n",
    "from uncertainties.unumpy import uarray                     # Array von Fehler: fehlerarray =  uarray(array, errarray)\n",
    "from uncertainties.unumpy import (nominal_values as noms,   # Wert:             noms(fehlerwert) = x\n",
    "                                  std_devs as stds)         # Abweichung:       stds(fehlerarray) = errarray\n",
    "from uncertainties import unumpy as unp \n",
    "import scipy.constants as const"
   ]
  },
  {
   "cell_type": "markdown",
   "metadata": {},
   "source": [
    "5.1 Wheatstonsche Brücke"
   ]
  },
  {
   "cell_type": "code",
   "execution_count": 111,
   "metadata": {},
   "outputs": [
    {
     "name": "stdout",
     "output_type": "stream",
     "text": [
      "316.4+/-1.2\n",
      "235.5+/-0.9\n"
     ]
    }
   ],
   "source": [
    "# Wert 13\n",
    "a = 1000; b = 240/760\n",
    "ur2_1 = ufloat(a, 0.002*a)\n",
    "ur34_1 = ufloat(b, 0.005*b)\n",
    "rx_1 = ur2_1 * ur34_1\n",
    "\n",
    "a = 500; b = 388/612\n",
    "ur2_2 = ufloat(a, 0.002*a)\n",
    "ur34_2 = ufloat(b, 0.005*b)\n",
    "rx_2 = ur2_2 * ur34_2\n",
    "\n",
    "rx13 = (rx_1+rx_2)/2\n",
    "print(rx13)\n",
    "\n",
    "# Wert 18\n",
    "a = 1000; b = 190/810\n",
    "ur2_1 = ufloat(a, 0.002*a)\n",
    "ur34_1 = ufloat(b, 0.005*b)\n",
    "rx_1 = ur2_1 * ur34_1\n",
    "\n",
    "a = 500; b = 321/679\n",
    "ur2_2 = ufloat(a, 0.002*a)\n",
    "ur34_2 = ufloat(b, 0.005*b)\n",
    "rx_2 = ur2_2 * ur34_2\n",
    "\n",
    "rx18 = (rx_1+rx_2)/2\n",
    "print(rx18)"
   ]
  },
  {
   "cell_type": "markdown",
   "metadata": {},
   "source": [
    "5.2 Kapazitätsmessbrücke"
   ]
  },
  {
   "cell_type": "code",
   "execution_count": 112,
   "metadata": {},
   "outputs": [
    {
     "name": "stdout",
     "output_type": "stream",
     "text": [
      "233.7+/-1.3\n",
      "433+/-13\n"
     ]
    }
   ],
   "source": [
    "# Wert 8\n",
    "a = 225; b = 645/335; br = 1/b; c = 450\n",
    "uc2 = ufloat(c, 0.002*c) \n",
    "ur2 = ufloat(a, 0.03*a)\n",
    "ur34 = ufloat(b, 0.005*b)\n",
    "ur43 = ufloat(br, 0.005*br)\n",
    "cx8 = uc2 * ur43\n",
    "rx8 = ur2 * ur34\n",
    "print(cx8)\n",
    "print(rx8)"
   ]
  },
  {
   "cell_type": "markdown",
   "metadata": {},
   "source": [
    "5.3 Induktivitätsmessbrücke"
   ]
  },
  {
   "cell_type": "code",
   "execution_count": 113,
   "metadata": {},
   "outputs": [
    {
     "name": "stdout",
     "output_type": "stream",
     "text": [
      "42.35+/-0.13\n",
      "75.5+/-1.4\n"
     ]
    }
   ],
   "source": [
    "# Wert 17\n",
    "a = 30; b = 745/255; l = 14.6 \n",
    "ul2_1 = ufloat(l, 0.002*l) \n",
    "ur2_1 = ufloat(a, 0.03*a)\n",
    "ur34_1 = ufloat(b, 0.005*b)\n",
    "lx17_1 = ul2_1 * ur34_1\n",
    "rx17_1 = ur2_1 * ur34_1\n",
    "\n",
    "a = 33; b = 606/396; l = 27.5 \n",
    "ul2_2 = ufloat(l, 0.002*l) \n",
    "ur2_2 = ufloat(a, 0.03*a)\n",
    "ur34_2 = ufloat(b, 0.005*b)\n",
    "lx17_2 = ul2_2 * ur34_2\n",
    "rx17_2 = ur2_2 * ur34_2\n",
    "\n",
    "a = 42; b = 678/322; l = 20.1 \n",
    "ul2_3 = ufloat(l, 0.002*l) \n",
    "ur2_3 = ufloat(a, 0.03*a)\n",
    "ur34_3 = ufloat(b, 0.005*b)\n",
    "lx17_3 = ul2_3 * ur34_3\n",
    "rx17_3 = ur2_3 * ur34_3\n",
    "\n",
    "lx17 = (lx17_1 + lx17_2 + lx17_3)/3\n",
    "rx17 = (rx17_1 + rx17_2 + rx17_3)/3\n",
    "\n",
    "print(lx17)\n",
    "print(rx17)"
   ]
  },
  {
   "cell_type": "markdown",
   "metadata": {},
   "source": [
    "5.4 Maxwell-Brücke"
   ]
  },
  {
   "cell_type": "code",
   "execution_count": 114,
   "metadata": {},
   "outputs": [
    {
     "name": "stdout",
     "output_type": "stream",
     "text": [
      "(4.72+/-0.14)e+07\n",
      "105+/-4\n"
     ]
    }
   ],
   "source": [
    "# Wert 17\n",
    "r2 = 1000; r3 = 85; r4 = 960; c4 = 450\n",
    "uc4_1 = ufloat(c4, 0.002*c) \n",
    "ur2_1 = ufloat(r2, 0.002*r2)\n",
    "ur3_1 = ufloat(r3, 0.03*r3)\n",
    "ur4_1 = ufloat(r4, 0.03*r4)\n",
    "lx17_1 = ur2_1 * ur3_1 * uc4_1\n",
    "rx17_1 = ur2_1 * ur3_1 / ur4_1\n",
    "\n",
    "r2 = 1000; r3 = 60; r4 = 700; c4 = 660\n",
    "uc4_2 = ufloat(c4, 0.002*c) \n",
    "ur2_2 = ufloat(r2, 0.002*r2)\n",
    "ur3_2 = ufloat(r3, 0.03*r3)\n",
    "ur4_2 = ufloat(r4, 0.03*r4)\n",
    "lx17_2 = ur2_2 * ur3_1 * uc4_2\n",
    "rx17_2 = ur2_2 * ur3_1 / ur4_2\n",
    "\n",
    "lx17 = (lx17_1 + lx17_2)/2\n",
    "rx17 = (rx17_1 + rx17_2)/2\n",
    "\n",
    "print(lx17)\n",
    "print(rx17)"
   ]
  },
  {
   "cell_type": "markdown",
   "metadata": {},
   "source": [
    "5.5 Wien-Robinson-Brücke"
   ]
  },
  {
   "cell_type": "code",
   "execution_count": 164,
   "metadata": {},
   "outputs": [
    {
     "name": "stdout",
     "output_type": "stream",
     "text": [
      "[2.000e+01 4.000e+01 8.000e+01 1.600e+02 2.300e+02 2.320e+02 2.340e+02\n",
      " 2.360e+02 2.380e+02 2.400e+02 2.410e+02 2.420e+02 2.440e+02 2.460e+02\n",
      " 2.480e+02 2.500e+02 3.200e+02 6.400e+02 1.280e+03 2.560e+03 5.020e+03\n",
      " 1.004e+04 2.008e+04 3.000e+04]\n"
     ]
    },
    {
     "data": {
      "text/plain": [
       "(0.0, 0.36746874999999996)"
      ]
     },
     "execution_count": 164,
     "metadata": {},
     "output_type": "execute_result"
    },
    {
     "data": {
      "image/png": "[encoded data removed]",
      "text/plain": [
       "<Figure size 432x288 with 1 Axes>"
      ]
     },
     "metadata": {
      "needs_background": "light"
     },
     "output_type": "display_data"
    }
   ],
   "source": [
    "md = pd.read_csv('tables/e.csv')\n",
    "md = md.iloc[:,[0,1]]\n",
    "np.savetxt('tables/md.txt', md.values, header='nu/Hz U/mV', fmt='%.1f')\n",
    "\n",
    "nu, Ubr = np.genfromtxt('tables/md.txt', unpack=True, skip_header=1)\n",
    "Us = 4e3\n",
    "nu0 = 50000/(33*2*const.pi)\n",
    "Omega = nu/nu0\n",
    "U = Ubr/Us\n",
    "\n",
    "plt.plot(Omega, U, 'xr', linewidth = 1, label = 'Messdaten', alpha = 0.5)\n",
    "\n",
    "def f(o):\n",
    "    return np.sqrt( ((o**2 -1)**2) / (9 * ((1-o**2)**2) + 9*o**2)  )\n",
    "\n",
    "xx = np.linspace(0, 150, 10000)\n",
    "plt.plot(xx, f(xx), '-b', linewidth = 1, label = 'Theoriekurve')\n",
    "\n",
    "plt.xlabel(r'$\\Omega = \\frac{\\nu}{\\nu_0}$')\n",
    "plt.ylabel(r'$\\frac{U_\\mathrm{Br}}{U_\\mathrm{S}}$')\n",
    "plt.xscale('log')\n",
    "plt.legend(loc=\"best\")\n",
    "plt.grid(True)\n",
    "\n",
    "plt.xlim(0.1, 150)\n",
    "plt.ylim(0)"
   ]
  }
 ],
 "metadata": {
  "interpreter": {
   "hash": "35caa7b82a3757becf5a71cac731e28ec147500c0075d0177139a56986d9e143"
  },
  "kernelspec": {
   "display_name": "Python 3.8.8 64-bit ('base': conda)",
   "language": "python",
   "name": "python3"
  },
  "language_info": {
   "codemirror_mode": {
    "name": "ipython",
    "version": 3
   },
   "file_extension": ".py",
   "mimetype": "text/x-python",
   "name": "python",
   "nbconvert_exporter": "python",
   "pygments_lexer": "ipython3",
   "version": "3.8.8"
  },
  "orig_nbformat": 4
 },
 "nbformat": 4,
 "nbformat_minor": 2
}
