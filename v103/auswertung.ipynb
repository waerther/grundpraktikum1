{
 "cells": [
  {
   "cell_type": "markdown",
   "metadata": {},
   "source": [
    "Messdaten im table - Format"
   ]
  },
  {
   "cell_type": "code",
   "execution_count": 15,
   "metadata": {},
   "outputs": [],
   "source": [
    "import pandas as pd\n",
    "import numpy as np\n",
    "runderstab = pd.read_excel(r\"tables/runderstabeinseitig.xlsx\")\n",
    "eckigerstab = pd.read_excel(r\"tables/eckigerstabeinseitig.xlsx\")\n",
    "#print(runderstab.to_latex(index = False, column_format= \"c c c\", na_rep = \"-\", float_format=\"%.3f\"))\n",
    "#print(eckigerstab.to_latex(index = False, column_format= \"c c c\", na_rep = \"-\", float_format=\"%.3f\"))"
   ]
  }
 ],
 "metadata": {
  "interpreter": {
   "hash": "4ef32ed23c28cedd878486b9bb2ae1d1ed39a4ae162496b7d4dd2e637309db31"
  },
  "kernelspec": {
   "display_name": "Python 3.8.8 64-bit ('base': conda)",
   "language": "python",
   "name": "python3"
  },
  "language_info": {
   "codemirror_mode": {
    "name": "ipython",
    "version": 3
   },
   "file_extension": ".py",
   "mimetype": "text/x-python",
   "name": "python",
   "nbconvert_exporter": "python",
   "pygments_lexer": "ipython3",
   "version": "3.8.8"
  },
  "orig_nbformat": 4
 },
 "nbformat": 4,
 "nbformat_minor": 2
}
