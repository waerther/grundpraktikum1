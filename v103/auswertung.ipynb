{
 "cells": [
  {
   "cell_type": "markdown",
   "metadata": {},
   "source": [
    "Messdaten im table - Format"
   ]
  },
  {
   "cell_type": "code",
   "execution_count": 20,
   "metadata": {},
   "outputs": [],
   "source": [
    "import pandas as pd\n",
    "import numpy as np\n",
    "\n",
    "# Daten importieren\n",
    "runderstabein = pd.read_excel(r\"tables/runderstabeinseitig.xlsx\")       ;lrund = 0.59\n",
    "eckigerstabein = pd.read_excel(r\"tables/eckigerstabeinseitig.xlsx\")     ;leck = 0.602\n",
    "runderstabbeid = pd.read_excel(r\"tables/runderstabbeidseitig.xlsx\")     \n",
    "eckigerstabbeid = pd.read_excel(r\"tables/eckigerstabbeidseitig.xlsx\")   \n",
    "\n",
    "################################################\n",
    "# Tabellen ergänzen durch D(x) und Approximation\n",
    "################################################\n",
    "\n",
    "# Für einseitige Einspannung\n",
    "def func1(l,x):\n",
    "    rtn = (l * x**2 - x**3 / 3) * 10**(3)\n",
    "    return rtn\n",
    "\n",
    "# Für beidseitige Einspannung\n",
    "def func1(l,x):\n",
    "    rtn = (3*l**2 * x - 4 * x**3) * 10**(3)\n",
    "    return rtn\n",
    "\n",
    "################################\n",
    "# Runder Stab einseitig\n",
    "arr1 = pd.DataFrame(runderstabein).to_numpy()\n",
    "dx1 = arr1[:,2] - arr1[:,1]\n",
    "approx1 = func1(lrund, arr1[:,0] * 10**(-3))\n",
    "arr1 = np.c_[arr1, dx1, approx1]\n",
    "\n",
    "# Eckiger Stab einseitig\n",
    "arr2 = pd.DataFrame(eckigerstabein).to_numpy()\n",
    "dx2 = arr2[:,2] - arr2[:,1]\n",
    "approx2 = func1(leck, arr2[:,0] * 10**(-3))\n",
    "arr2 = np.c_[arr2, dx2, approx2]\n",
    "\n",
    "################################\n",
    "# Runder Stab beidseitig\n",
    "arr3 = pd.DataFrame(runderstabbeid).to_numpy()\n",
    "dx3 = arr3[:,2] - arr3[:,1]\n",
    "approx3 = func1(lrund, arr3[:,0] * 10**(-3))\n",
    "arr3 = np.c_[arr3, dx3, approx3]\n",
    "\n",
    "# Eckiger Stab beidseitig\n",
    "arr4 = pd.DataFrame(eckigerstabbeid).to_numpy()\n",
    "dx4 = arr4[:,2] - arr4[:,1]\n",
    "approx4 = func1(leck, arr4[:,0] * 10**(-3))\n",
    "arr4 = np.c_[arr4, dx4, approx4]\n",
    "\n",
    "################################\n",
    "# Tabellen umwandeln und printen\n",
    "################################\n",
    "\n",
    "# Tabellen umwandeln zu Excel (für print to Latex)\n",
    "arr1 =  pd.DataFrame(data=arr1)\n",
    "arr2 =  pd.DataFrame(data=arr2)\n",
    "arr3 =  pd.DataFrame(data=arr3)\n",
    "arr4 =  pd.DataFrame(data=arr4)\n",
    "\n",
    "# Tabellen erstellen\n",
    "#print(arr1.to_latex(index = False, column_format= \"c c c c c\", na_rep = \"-\", float_format=\"%.3f\"))\n",
    "#print(arr2.to_latex(index = False, column_format= \"c c c c c\", na_rep = \"-\", float_format=\"%.3f\"))\n",
    "#print(arr3.to_latex(index = False, column_format= \"c c c c c\", na_rep = \"-\", float_format=\"%.3f\"))\n",
    "#print(arr4.to_latex(index = False, column_format= \"c c c c c\", na_rep = \"-\", float_format=\"%.3f\"))"
   ]
  }
 ],
 "metadata": {
  "interpreter": {
   "hash": "4ef32ed23c28cedd878486b9bb2ae1d1ed39a4ae162496b7d4dd2e637309db31"
  },
  "kernelspec": {
   "display_name": "Python 3.8.8 64-bit ('base': conda)",
   "language": "python",
   "name": "python3"
  },
  "language_info": {
   "codemirror_mode": {
    "name": "ipython",
    "version": 3
   },
   "file_extension": ".py",
   "mimetype": "text/x-python",
   "name": "python",
   "nbconvert_exporter": "python",
   "pygments_lexer": "ipython3",
   "version": "3.8.8"
  },
  "orig_nbformat": 4
 },
 "nbformat": 4,
 "nbformat_minor": 2
}
