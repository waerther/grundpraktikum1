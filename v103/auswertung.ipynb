{
 "cells": [
  {
   "cell_type": "markdown",
   "metadata": {},
   "source": [
    "Messdaten im table - Format"
   ]
  },
  {
   "cell_type": "code",
   "execution_count": 38,
   "metadata": {},
   "outputs": [],
   "source": [
    "import pandas as pd\n",
    "import numpy as np\n",
    "import matplotlib.pyplot as plt\n",
    "import os\n",
    "\n",
    "# Daten importieren\n",
    "runderstabein = pd.read_excel(r\"tables/runderstabeinseitig.xlsx\")       ;lrund = 0.59; mrund = 0.4122\n",
    "eckigerstabein = pd.read_excel(r\"tables/eckigerstabeinseitig.xlsx\")     ;leck = 0.602; meck = 0.5365\n",
    "runderstabbeid = pd.read_excel(r\"tables/runderstabbeidseitig.xlsx\")     \n",
    "eckigerstabbeid = pd.read_excel(r\"tables/eckigerstabbeidseitig.xlsx\")   \n",
    "\n",
    "################################################\n",
    "# Tabellen ergänzen durch D(x) und Approximation\n",
    "################################################\n",
    "\n",
    "# Für einseitige Einspannung\n",
    "def func1(l,x):\n",
    "    x = x * 10**(-3)\n",
    "    rtn = (l * x**2 - x**3 / 3) * 10**(3)\n",
    "    return rtn\n",
    "\n",
    "# Für beidseitige Einspannung\n",
    "def func2(l,x):\n",
    "    x = x * 10**(-3)\n",
    "    rtn = (3*l**2 * x - 4 * x**3) * 10**(3)\n",
    "    return rtn\n",
    "\n",
    "################################\n",
    "# Runder Stab einseitig\n",
    "arr1 = pd.DataFrame(runderstabein).to_numpy()\n",
    "dx1 = arr1[:,2] - arr1[:,1]\n",
    "approx1 = (func1(lrund, arr1[:,0]))\n",
    "arr1 = np.c_[arr1, dx1, approx1]\n",
    "\n",
    "# Eckiger Stab einseitig\n",
    "arr2 = pd.DataFrame(eckigerstabein).to_numpy()\n",
    "dx2 = arr2[:,2] - arr2[:,1]\n",
    "approx2 = func1(leck, arr2[:,0])\n",
    "arr2 = np.c_[arr2, dx2, approx2]\n",
    "\n",
    "################################\n",
    "# Runder Stab beidseitig\n",
    "arr3 = pd.DataFrame(runderstabbeid).to_numpy()\n",
    "dx3 = arr3[:,2] - arr3[:,1]\n",
    "approx3 = func2(lrund, arr3[:,0])\n",
    "arr3 = np.c_[arr3, dx3, approx3]\n",
    "\n",
    "# Eckiger Stab beidseitig\n",
    "arr4 = pd.DataFrame(eckigerstabbeid).to_numpy()\n",
    "dx4 = arr4[:,2] - arr4[:,1]\n",
    "approx4 = func2(leck, arr4[:,0])\n",
    "arr4 = np.c_[arr4, dx4, approx4]\n",
    "\n",
    "################################\n",
    "# Tabellen umwandeln und printen\n",
    "################################\n",
    "\n",
    "# Tabellen umwandeln zu Excel (für print to Latex)\n",
    "arr1 =  pd.DataFrame(data=arr1)\n",
    "arr2 =  pd.DataFrame(data=arr2)\n",
    "arr3 =  pd.DataFrame(data=arr3)\n",
    "arr4 =  pd.DataFrame(data=arr4)\n",
    "\n",
    "# Tabellen erstellen\n",
    "#print(arr1.to_latex(index = False, column_format= \"c c c c c\", na_rep = \"-\", float_format=\"%.3f\"))\n",
    "#print(arr2.to_latex(index = False, column_format= \"c c c c c\", na_rep = \"-\", float_format=\"%.3f\"))\n",
    "#print(arr3.to_latex(index = False, column_format= \"c c c c c\", na_rep = \"-\", float_format=\"%.3f\"))\n",
    "#print(arr4.to_latex(index = False, column_format= \"c c c c c\", na_rep = \"-\", float_format=\"%.3f\"))"
   ]
  },
  {
   "cell_type": "markdown",
   "metadata": {},
   "source": [
    "Plot für einseitige Einspannung"
   ]
  },
  {
   "cell_type": "code",
   "execution_count": 69,
   "metadata": {},
   "outputs": [
    {
     "name": "stdout",
     "output_type": "stream",
     "text": [
      "a = 0.0380 ± 0.0004\n",
      "b = 0.1248 ± 0.0193\n"
     ]
    },
    {
     "data": {
      "image/png": "[encoded data removed]",
      "text/plain": [
       "<Figure size 432x288 with 1 Axes>"
      ]
     },
     "metadata": {
      "needs_background": "light"
     },
     "output_type": "display_data"
    }
   ],
   "source": [
    "# Lineare Regression\n",
    "np.set_printoptions(suppress=True)\n",
    "\n",
    "#Daten\n",
    "arrquer = pd.DataFrame(arr1).to_numpy()\n",
    "\n",
    "dx = arrquer[:,3]\n",
    "Ausgl = arrquer[:,4]\n",
    "\n",
    "#Ausgleichsrechnung\n",
    "\n",
    "params, covariance_matrix = np.polyfit(Ausgl, dx, deg=1, cov=True)\n",
    "\n",
    "errors = np.sqrt(np.diag(covariance_matrix))\n",
    "\n",
    "for name, value, error in zip('ab', params, errors):\n",
    "    print(f'{name} = {value:.4f} ± {error:.4f}')\n",
    "\n",
    "x_plot = np.linspace(Ausgl[0], Ausgl[23])\n",
    "plt.plot(Ausgl, dx, 'x',label=\"Messwerte\", zorder=2)\n",
    "plt.plot(\n",
    "    x_plot,\n",
    "    params[0] * x_plot + params[1],\n",
    "    label='Lineare Regression',\n",
    "    linewidth=3,\n",
    "    zorder=1,\n",
    ")\n",
    "plt.xlabel(r'$\\left(Lx^2 - \\frac{x^3}{3}\\right) / 10^{-3}$')\n",
    "#plt.xlabel(r'$\\left(3L^2x - 4 x^3\\right) / 10^{-3}$')\n",
    "plt.ylabel(r'$D(x)  / 10^{-3}$')\n",
    "plt.grid()\n",
    "plt.legend(loc=\"best\")\n",
    "\n",
    "#Speichern des Plots (und überprüfen ob schon vorhanden)\n",
    "path = '/pictures/'\n",
    "if os.path.exists('Lineare Regression1.pdf'):\n",
    "    os.remove('Lineare Regression1.pdf')\n",
    "plt.savefig('pictures/Lineare Regression1.pdf')"
   ]
  },
  {
   "cell_type": "markdown",
   "metadata": {},
   "source": [
    "Code für beidseitige Einspannung"
   ]
  },
  {
   "cell_type": "code",
   "execution_count": 72,
   "metadata": {},
   "outputs": [
    {
     "name": "stdout",
     "output_type": "stream",
     "text": [
      "a = 0.0032 ± 0.0006\n",
      "b = -0.2266 ± 0.0971\n"
     ]
    },
    {
     "data": {
      "text/plain": [
       "<matplotlib.legend.Legend at 0x7fdb18dac160>"
      ]
     },
     "execution_count": 72,
     "metadata": {},
     "output_type": "execute_result"
    },
    {
     "data": {
      "image/png": "[encoded data removed]",
      "text/plain": [
       "<Figure size 432x288 with 1 Axes>"
      ]
     },
     "metadata": {
      "needs_background": "light"
     },
     "output_type": "display_data"
    }
   ],
   "source": [
    "# Lineare Regression\n",
    "np.set_printoptions(suppress=True)\n",
    "\n",
    "#Daten\n",
    "arrquer = pd.DataFrame(arr4).to_numpy()\n",
    "\n",
    "dx = arrquer[:,3]\n",
    "Ausgl = arrquer[:,4]\n",
    "\n",
    "# Daten anpassen für plot4\n",
    "\n",
    "dx1 = dx[:13] * (-1)\n",
    "dx2 = dx[13:26]\n",
    "\n",
    "dx = np.concatenate((dx1, dx2))\n",
    "#Ausgleichsrechnung\n",
    "\n",
    "params, covariance_matrix = np.polyfit(Ausgl, dx, deg=1, cov=True)\n",
    "\n",
    "errors = np.sqrt(np.diag(covariance_matrix))\n",
    "\n",
    "for name, value, error in zip('ab', params, errors):\n",
    "    print(f'{name} = {value:.4f} ± {error:.4f}')\n",
    "\n",
    "x_plot = np.linspace(-10, 240)\n",
    "plt.plot(Ausgl, dx, 'x',label=\"Messwerte\", zorder=2)\n",
    "plt.plot(\n",
    "    x_plot,\n",
    "    params[0] * x_plot + params[1],\n",
    "    label='Lineare Regression',\n",
    "    linewidth=3,\n",
    "    zorder=1,\n",
    ")\n",
    "plt.xlabel(r'$\\left(Lx^2 - \\frac{x^3}{3}\\right) / 10^{-3}$')\n",
    "#plt.xlabel(r'$\\left(3L^2x - 4 x^3\\right) / 10^{-3}$')\n",
    "plt.ylabel(r'$D(x)  / 10^{-3}$')\n",
    "plt.grid()\n",
    "plt.legend(loc=\"best\")\n",
    "\n",
    "#Speichern des Plots (und überprüfen ob schon vorhanden)\n",
    "#path = '/pictures/'\n",
    "#if os.path.exists('Lineare Regression4.pdf'):\n",
    "#    os.remove('Lineare Regression4.pdf')\n",
    "#plt.savefig('pictures/Lineare Regression4.pdf')"
   ]
  },
  {
   "cell_type": "markdown",
   "metadata": {},
   "source": [
    "Berechung des Flächenträgheits/- und Elastizitätsmodul"
   ]
  },
  {
   "cell_type": "code",
   "execution_count": 73,
   "metadata": {},
   "outputs": [
    {
     "name": "stdout",
     "output_type": "stream",
     "text": [
      "119+/-22\n"
     ]
    }
   ],
   "source": [
    "from uncertainties import ufloat\n",
    "\n",
    "def elast(m, I, a):\n",
    "    E = (m*9.81) / (2 * a * I)\n",
    "    return E\n",
    "\n",
    "def elastbeid(m, I, a):\n",
    "    E = (m * 9.81) / (48 * I * a)\n",
    "    return E\n",
    "\n",
    "def IQuad(h):\n",
    "    return ((h**4) / 12)\n",
    "\n",
    "def IKreis(R):\n",
    "    return ((np.pi * R**4) / 4)\n",
    "    \n",
    "a = ufloat(0.0032, 0.0006)\n",
    "mbeid = 1.5524          # Masse des angehängten Gewichtes bei beidseitiger Einspannung\n",
    "\n",
    "print(elastbeid(mbeid, IQuad(0.01) , a) * 10**(-9))"
   ]
  }
 ],
 "metadata": {
  "interpreter": {
   "hash": "4ef32ed23c28cedd878486b9bb2ae1d1ed39a4ae162496b7d4dd2e637309db31"
  },
  "kernelspec": {
   "display_name": "Python 3.8.8 64-bit ('base': conda)",
   "language": "python",
   "name": "python3"
  },
  "language_info": {
   "codemirror_mode": {
    "name": "ipython",
    "version": 3
   },
   "file_extension": ".py",
   "mimetype": "text/x-python",
   "name": "python",
   "nbconvert_exporter": "python",
   "pygments_lexer": "ipython3",
   "version": "3.8.8"
  },
  "orig_nbformat": 4
 },
 "nbformat": 4,
 "nbformat_minor": 2
}
