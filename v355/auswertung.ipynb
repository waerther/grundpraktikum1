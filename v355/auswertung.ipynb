{
 "cells": [
  {
   "cell_type": "code",
   "execution_count": 571,
   "metadata": {},
   "outputs": [],
   "source": [
    "import pandas as pd\n",
    "import matplotlib.pyplot as plt\n",
    "import numpy as np\n",
    "from scipy.optimize import curve_fit\n",
    "from uncertainties import ufloat\n",
    "from uncertainties import unumpy as unp\n"
   ]
  },
  {
   "cell_type": "markdown",
   "metadata": {},
   "source": [
    "Tabelle: Messung der Schwingungen pro Schwebung"
   ]
  },
  {
   "cell_type": "code",
   "execution_count": 572,
   "metadata": {},
   "outputs": [
    {
     "name": "stdout",
     "output_type": "stream",
     "text": [
      "\\begin{tabular}{c c}\n",
      "\\toprule\n",
      " C\\_k / nF &  Maxima \\\\\n",
      "\\midrule\n",
      "     2.19 &       4 \\\\\n",
      "     2.86 &       5 \\\\\n",
      "     4.74 &       7 \\\\\n",
      "     6.86 &       9 \\\\\n",
      "     8.18 &      10 \\\\\n",
      "     9.99 &      11 \\\\\n",
      "    12.00 &      12 \\\\\n",
      "\\bottomrule\n",
      "\\end{tabular}\n",
      "\n"
     ]
    }
   ],
   "source": [
    "extrema = pd.read_csv('md_extrema.csv')\n",
    "print(extrema.to_latex(index = False, column_format= 'c c', float_format= '%.2f'))"
   ]
  },
  {
   "cell_type": "markdown",
   "metadata": {},
   "source": [
    "Tabelle: Berechnung der Schwingungen pro Schwebung"
   ]
  },
  {
   "cell_type": "code",
   "execution_count": 595,
   "metadata": {},
   "outputs": [
    {
     "name": "stdout",
     "output_type": "stream",
     "text": [
      "[9.97e-10 2.86e-09 4.74e-09 6.86e-09 8.18e-09 9.99e-09 1.20e-08]\n",
      "[46.5   9.01  0.9   6.85 12.82 23.31 34.14]\n",
      "\\begin{tabular}{c c c c c c c}\n",
      "\\toprule\n",
      "         C\\_k/nF &  nu\\_plus/kHz &   nu\\_minus/kHz & nu\\_schwingung/kHz & nu\\_schwebung/kHz &     n &  n\\_rel \\\\\n",
      "\\midrule\n",
      "0.9970+/-0.0030 &        36.51 &   58.77+/-0.05 &    47.640+/-0.027 &     22.26+/-0.05 &  2.14 &  46.50 \\\\\n",
      "  2.860+/-0.009 &        36.51 & 45.530+/-0.024 &    41.020+/-0.012 &    9.020+/-0.024 &  4.55 &   9.01 \\\\\n",
      "  4.740+/-0.014 &        36.51 & 42.180+/-0.016 &    39.350+/-0.008 &    5.670+/-0.016 &  6.94 &   0.90 \\\\\n",
      "  6.860+/-0.021 &        36.51 & 40.510+/-0.011 &    38.510+/-0.006 &    4.000+/-0.011 &  9.62 &   6.85 \\\\\n",
      "  8.180+/-0.025 &        36.51 & 39.900+/-0.010 &    38.200+/-0.005 &    3.390+/-0.010 & 11.28 &  12.82 \\\\\n",
      "  9.990+/-0.030 &        36.51 & 39.300+/-0.008 &    37.910+/-0.004 &    2.790+/-0.008 & 13.56 &  23.31 \\\\\n",
      "   12.00+/-0.04 &        36.51 & 38.850+/-0.007 &  37.6800+/-0.0030 &    2.340+/-0.007 & 16.10 &  34.14 \\\\\n",
      "\\bottomrule\n",
      "\\end{tabular}\n",
      "\n"
     ]
    }
   ],
   "source": [
    "C_k = extrema.iloc[:,:]\n",
    "# C_k = extrema.iloc[:,[0]].values.T[0]\n",
    "# print(C_k)\n",
    "np.savetxt('C_k.txt', C_k.values, header='C_k', fmt='%.4f')\n",
    "C_k, n = np.genfromtxt('C_k.txt', unpack=True, skip_header=1)\n",
    "C_k[0] = 0.997\n",
    "C_k *= 10**-9\n",
    "print(C_k)\n",
    "C_k = unp.uarray(C_k, C_k*0.003)\n",
    "\n",
    "nu_plus_id = 36.51 *1000\n",
    "L = 0.023954\n",
    "C = 0.7932e-9\n",
    "\n",
    "def nu_minus(l, c, ck):\n",
    "    return (1/(2*np.pi)) * ( l * ( (1/c) + (2/ck) )**(-1) )**(-1/2)\n",
    "\n",
    "def nu_schwingung(nu_m, nu_p):\n",
    "    return 0.5*(nu_m + nu_p)\n",
    "\n",
    "def nu_schwebung(nu_m, nu_p):\n",
    "    return nu_m - nu_p\n",
    "\n",
    "def n_anzahl(nu_schwingung, nu_schwebung):\n",
    "    return nu_schwingung/nu_schwebung\n",
    "\n",
    "def relWert(x ,xw):\n",
    "    return 100*(abs(x-xw))/x\n",
    "\n",
    "# Berechnung\n",
    "nu_minus_id = nu_minus(L, C, C_k)\n",
    "nu_schwingung_id = nu_schwingung(nu_minus_id, nu_plus_id)\n",
    "nu_schwebung_id = nu_schwebung(nu_minus_id, nu_plus_id)\n",
    "n_id = unp.nominal_values(n_anzahl(nu_schwingung_id, nu_schwebung_id))\n",
    "n_rel = relWert(n, unp.nominal_values(n_id))\n",
    "\n",
    "# Runden der Unsicherheiten (bringt nichts, keine Ahnung)\n",
    "nu_minus_id_r = nu_minus_id*10**-3\n",
    "nu_minus_id_r = unp.uarray(np.round(unp.nominal_values(nu_minus_id_r), 2), np.round(unp.std_devs(nu_minus_id_r), 3)) \n",
    "\n",
    "nu_schwingung_id_r = nu_schwingung_id*10**-3\n",
    "nu_schwingung_id_r = unp.uarray(np.round(unp.nominal_values(nu_schwingung_id_r), 2), np.round(unp.std_devs(nu_schwingung_id_r), 3))\n",
    "\n",
    "nu_schwebung_id_r = nu_schwebung_id*10**-3\n",
    "nu_schwebung_id_r = unp.uarray(np.round(unp.nominal_values(nu_schwebung_id_r), 2), np.round(unp.std_devs(nu_schwebung_id_r), 3))\n",
    "\n",
    "#n_id_r = unp.uarray(np.round(unp.nominal_values(n_id), 2), np.round(unp.std_devs(n_id), 3))\n",
    "n_id_r = np.round(n_id, 2)\n",
    "n_rel_r = np.round(n_rel, 2)\n",
    "\n",
    "\n",
    "print(n_rel_r)\n",
    "\n",
    "d1 = {'C_k/nF': C_k*10**9, 'nu_plus/kHz': nu_plus_id*10**-3, 'nu_minus/kHz': nu_minus_id_r, 'nu_schwingung/kHz': nu_schwingung_id_r,\n",
    " 'nu_schwebung/kHz': nu_schwebung_id_r, 'n': n_id_r, 'n_rel': n_rel_r} \n",
    "\n",
    "df1 = pd.DataFrame(data = d1)\n",
    "print(df1.to_latex(index = False, column_format= \"c c c c c c c\"))\n"
   ]
  },
  {
   "cell_type": "markdown",
   "metadata": {},
   "source": [
    "Tabelle: Frequenzen der Fundamentalschwingungen"
   ]
  },
  {
   "cell_type": "code",
   "execution_count": 594,
   "metadata": {},
   "outputs": [
    {
     "data": {
      "image/png": "[encoded data removed]",
      "text/plain": [
       "<Figure size 432x288 with 1 Axes>"
      ]
     },
     "metadata": {
      "needs_background": "light"
     },
     "output_type": "display_data"
    }
   ],
   "source": [
    "frequenz = pd.read_csv('md_frequenz.csv')\n",
    "frequenz = frequenz.iloc[:,:]\n",
    "np.savetxt('frequenz.txt', frequenz.values, header='nu^+ nu^-', fmt='%.3f')\n",
    "ck, nu_p, n_m = np.genfromtxt('frequenz.txt', unpack=True, skip_header=1)\n",
    "\n",
    "x = np.linspace(0.997, 13, 120)\n",
    "y = nu_minus(L, C, x*10**-9)\n",
    "\n",
    "plt.plot(x, y*10**-3, '-r', label = 'Theoriewerte')\n",
    "plt.plot(ck, n_m, 'xb', label = 'Messwerte')\n",
    "plt.xlabel(r'$C_{K} \\,/\\, \\mathrm{nF}$')\n",
    "plt.ylabel(r'$\\nu^- \\,/\\, \\mathrm{kHz}$')\n",
    "plt.legend(loc=\"best\")\n",
    "plt.xlim(0, 12.5)\n",
    "plt.ylim(35, 58)\n",
    "plt.grid(True)\n",
    "plt.show()"
   ]
  }
 ],
 "metadata": {
  "interpreter": {
   "hash": "35caa7b82a3757becf5a71cac731e28ec147500c0075d0177139a56986d9e143"
  },
  "kernelspec": {
   "display_name": "Python 3.8.8 64-bit ('base': conda)",
   "language": "python",
   "name": "python3"
  },
  "language_info": {
   "codemirror_mode": {
    "name": "ipython",
    "version": 3
   },
   "file_extension": ".py",
   "mimetype": "text/x-python",
   "name": "python",
   "nbconvert_exporter": "python",
   "pygments_lexer": "ipython3",
   "version": "3.8.8"
  },
  "orig_nbformat": 4
 },
 "nbformat": 4,
 "nbformat_minor": 2
}
