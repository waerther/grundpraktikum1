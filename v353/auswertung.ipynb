{
 "cells": [
  {
   "cell_type": "code",
   "execution_count": 183,
   "metadata": {},
   "outputs": [],
   "source": [
    "import pandas as pd\n",
    "import matplotlib.pyplot as plt\n",
    "import numpy as np\n",
    "from scipy.optimize import curve_fit                        # Funktionsfit:     popt, pcov = curve_fit(func, xdata, ydata) \n",
    "from uncertainties import ufloat                            # Fehler:           fehlerwert =  ulfaot(x, err)\n",
    "from uncertainties.unumpy import uarray                     # Array von Fehler: fehlerarray =  uarray(array, errarray)\n",
    "from uncertainties.unumpy import (nominal_values as noms,   # Wert:             noms(fehlerwert) = x\n",
    "                                  std_devs as stds)         # Abweichung:       stds(fehlerarray) = errarray\n",
    "from uncertainties import unumpy as unp "
   ]
  },
  {
   "cell_type": "markdown",
   "metadata": {},
   "source": [
    "Tabelle 1:"
   ]
  },
  {
   "cell_type": "code",
   "execution_count": 184,
   "metadata": {},
   "outputs": [
    {
     "name": "stdout",
     "output_type": "stream",
     "text": [
      "\\begin{tabular}{c c}\n",
      "\\toprule\n",
      " Uc/V &  T/μs \\\\\n",
      "\\midrule\n",
      "10.00 &     0 \\\\\n",
      "10.00 &     3 \\\\\n",
      " 9.00 &     4 \\\\\n",
      " 8.00 &     7 \\\\\n",
      " 7.00 &     9 \\\\\n",
      " 6.00 &    13 \\\\\n",
      " 5.00 &    18 \\\\\n",
      " 4.00 &    23 \\\\\n",
      " 3.50 &    26 \\\\\n",
      " 3.00 &    30 \\\\\n",
      " 2.50 &    33 \\\\\n",
      " 2.00 &    40 \\\\\n",
      " 1.50 &    47 \\\\\n",
      " 1.00 &    57 \\\\\n",
      " 0.50 &    80 \\\\\n",
      " 0.25 &   128 \\\\\n",
      "\\bottomrule\n",
      "\\end{tabular}\n",
      "\n"
     ]
    }
   ],
   "source": [
    "md_a = pd.read_csv('tables/md_a.csv')\n",
    "print(md_a.to_latex(index = False, column_format= \"c c\")) \n"
   ]
  },
  {
   "cell_type": "code",
   "execution_count": 185,
   "metadata": {},
   "outputs": [
    {
     "name": "stdout",
     "output_type": "stream",
     "text": [
      "a = (-0.032 +- 0.002)\n",
      "b = (-0.154 +- 0.083)\n",
      "RC = (31.437 +- 1.798)\n"
     ]
    },
    {
     "data": {
      "image/png": "[encoded data removed]",
      "text/plain": [
       "<Figure size 432x288 with 1 Axes>"
      ]
     },
     "metadata": {
      "needs_background": "light"
     },
     "output_type": "display_data"
    }
   ],
   "source": [
    "np.savetxt('tables/a.txt', md_a.values, header='Uc/V T/µs', fmt='%.2f')\n",
    "Uc, T = np.genfromtxt('tables/a.txt', unpack=True, skip_header=1)\n",
    "\n",
    "# lineare Ausgleichsfunktion\n",
    "def f(t, a, b):\n",
    "    return a * t + b\n",
    "\n",
    "y = np.log(Uc/Uc[0])\n",
    "\n",
    "para, pcov = curve_fit(f, T, y)\n",
    "pcov = np.sqrt(np.diag(pcov))\n",
    "a, b = para\n",
    "fa, fb = pcov \n",
    "\n",
    "plt.plot(T, y, 'xr', markersize=6 , label = 'Messwerte', alpha=0.5)\n",
    "xx = np.linspace(-10, 140)\n",
    "plt.plot(xx, f(xx, a, b), '-b', linewidth = 1, label = 'Ausgleichsgerade')\n",
    "\n",
    "plt.xlabel(r'$t \\, / \\, \\mathrm{\\mu s}$')\n",
    "plt.ylabel(r'$\\ln \\left(\\frac{U_\\mathrm{c}}{U_{0}}\\right)$')\n",
    "plt.legend(loc=\"best\")\n",
    "plt.grid(True)\n",
    "plt.xlim(-5, 135)\n",
    "\n",
    "para = a, b\n",
    "pcov = fa, fb\n",
    "print('a = (%.3f +- %.3f)' % (a, fa))\n",
    "print('b = (%.3f +- %.3f)' % (b, fb))\n",
    "\n",
    "ua = ufloat(a, fa)\n",
    "RC = -1/ua\n",
    "print('RC = (%.3f +- %.3f)' % (noms(RC), stds(RC)))"
   ]
  },
  {
   "cell_type": "markdown",
   "metadata": {},
   "source": [
    "Tabelle 2:"
   ]
  },
  {
   "cell_type": "code",
   "execution_count": 186,
   "metadata": {},
   "outputs": [
    {
     "name": "stdout",
     "output_type": "stream",
     "text": [
      "\\begin{tabular}{c c c}\n",
      "\\toprule\n",
      "  f/Hz &  Uc/V \\\\\n",
      "\\midrule\n",
      "   250 & 5,000 \\\\\n",
      "   500 & 4,800 \\\\\n",
      "   750 & 4,600 \\\\\n",
      "  1000 & 4,600 \\\\\n",
      "  1250 & 4,200 \\\\\n",
      "  1500 & 4,100 \\\\\n",
      "  1750 & 4,000 \\\\\n",
      "  2000 & 3,950 \\\\\n",
      "  2250 & 3,600 \\\\\n",
      "  2500 & 3,300 \\\\\n",
      "  2750 & 3,200 \\\\\n",
      "  3000 & 3,000 \\\\\n",
      "  3250 & 2,800 \\\\\n",
      "  3500 & 3,000 \\\\\n",
      "  3750 & 2,800 \\\\\n",
      "  4000 & 2,750 \\\\\n",
      "  6000 & 2,000 \\\\\n",
      "  8000 & 1,500 \\\\\n",
      " 10000 & 1,200 \\\\\n",
      " 20000 & 0,600 \\\\\n",
      " 30000 & 0,395 \\\\\n",
      " 50000 & 0,250 \\\\\n",
      "100000 & 0,130 \\\\\n",
      "\\bottomrule\n",
      "\\end{tabular}\n",
      "\n"
     ]
    }
   ],
   "source": [
    "md_b = pd.read_csv('tables/md_bc.csv')\n",
    "md_b = md_b.iloc[:, [0,1]]\n",
    "print(md_b.to_latex(index = False, column_format= \"c c c\", decimal=',')) "
   ]
  },
  {
   "cell_type": "code",
   "execution_count": 187,
   "metadata": {},
   "outputs": [
    {
     "name": "stdout",
     "output_type": "stream",
     "text": [
      "[-6.67344475e-05]\n",
      "T = (-66.734 +- 1.219 )10^-6\n"
     ]
    },
    {
     "data": {
      "image/png": "[encoded data removed]",
      "text/plain": [
       "<Figure size 432x288 with 1 Axes>"
      ]
     },
     "metadata": {
      "needs_background": "light"
     },
     "output_type": "display_data"
    }
   ],
   "source": [
    "np.savetxt('tables/b.txt', md_b.values, header='f/Hz Uc/V', fmt='%.3f')\n",
    "f, Uc = np.genfromtxt('tables/b.txt', unpack=True, skip_header=1)\n",
    "\n",
    "Uc = Uc/Uc[0]\n",
    "# Ausgleichsfunktion\n",
    "def g(f, T):\n",
    "    w = 2 * np.pi * f\n",
    "    return 1 / (np.sqrt(1 + w**2 * T**2))\n",
    "\n",
    "para, pcov = curve_fit(g, f, Uc)\n",
    "pcov = np.sqrt(np.diag(pcov))\n",
    "a = para\n",
    "print(a)\n",
    "fa = pcov \n",
    "\n",
    "plt.plot(f, Uc, 'xr', markersize=6 , label = 'Messwerte', alpha=0.5)\n",
    "xx = np.linspace(100, 150000, 10**4)\n",
    "plt.plot(xx, g(xx, a), '-b', linewidth = 1, label = 'Ausgleichsfunktion')\n",
    "\n",
    "plt.xlabel(r'$f \\, / \\, \\mathrm{Hz}$')\n",
    "plt.ylabel(r'$A(\\omega) \\, / \\, U_0$')\n",
    "plt.xscale('log')\n",
    "plt.legend(loc=\"best\")\n",
    "plt.grid(True)\n",
    "plt.xlim(200, 150000)\n",
    "\n",
    "\n",
    "ua = ufloat(a, fa) * 1e6\n",
    "T = ua\n",
    "print('T = (%.3f +- %.3f )10^-6' % (noms(T), stds(T)))"
   ]
  },
  {
   "cell_type": "markdown",
   "metadata": {},
   "source": [
    "Tabelle 3:"
   ]
  },
  {
   "cell_type": "code",
   "execution_count": 188,
   "metadata": {},
   "outputs": [
    {
     "name": "stdout",
     "output_type": "stream",
     "text": [
      "\\begin{tabular}{c c c}\n",
      "\\toprule\n",
      " Uc/V &  phi/rad \\\\\n",
      "\\midrule\n",
      " 5,00 &   0,0628 \\\\\n",
      " 4,80 &   0,1257 \\\\\n",
      " 4,60 &   0,1885 \\\\\n",
      " 4,60 &   0,1759 \\\\\n",
      " 4,20 &   0,1649 \\\\\n",
      " 4,10 &   0,1885 \\\\\n",
      " 4,00 &   0,2199 \\\\\n",
      " 3,95 &   0,2513 \\\\\n",
      " 3,60 &   0,2827 \\\\\n",
      " 3,30 &   0,3142 \\\\\n",
      " 3,20 &   0,3283 \\\\\n",
      " 3,00 &   0,3581 \\\\\n",
      " 2,80 &   0,3676 \\\\\n",
      " 3,00 &   0,3738 \\\\\n",
      " 2,80 &   0,4006 \\\\\n",
      " 2,75 &   0,4273 \\\\\n",
      " 2,00 &   0,4524 \\\\\n",
      " 1,50 &   0,5027 \\\\\n",
      " 1,20 &   0,5027 \\\\\n",
      " 0,60 &   0,7037 \\\\\n",
      " 0,40 &   0,4524 \\\\\n",
      " 0,25 &   0,5969 \\\\\n",
      " 0,13 &   0,6283 \\\\\n",
      "\\bottomrule\n",
      "\\end{tabular}\n",
      "\n"
     ]
    }
   ],
   "source": [
    "md_c = pd.read_csv('tables/md_bc.csv')\n",
    "np.savetxt('tables/c.txt', md_c.values, header='f/Hz Uc/V dt/µs', fmt='%.2f')\n",
    "f, Uc, a = np.genfromtxt('tables/c.txt', unpack=True, skip_header=1)\n",
    "a *= 1e-6\n",
    "b = 1/f\n",
    "phi = 2 * np.pi * a/b\n",
    "phi = np.round(phi, 4)\n",
    "z = {'Uc/V': Uc, 'phi/rad': phi}\n",
    "dz = pd.DataFrame(data=z)\n",
    "print(dz.to_latex(index = False, column_format= \"c c c\", decimal=','))"
   ]
  },
  {
   "cell_type": "code",
   "execution_count": 190,
   "metadata": {},
   "outputs": [
    {
     "name": "stdout",
     "output_type": "stream",
     "text": [
      "a = (-0.000 +- 0.000)\n"
     ]
    },
    {
     "ename": "TypeError",
     "evalue": "only size-1 arrays can be converted to Python scalars",
     "output_type": "error",
     "traceback": [
      "\u001b[0;31m---------------------------------------------------------------------------\u001b[0m",
      "\u001b[0;31mTypeError\u001b[0m                                 Traceback (most recent call last)",
      "\u001b[0;32m/tmp/ipykernel_885/2356161524.py\u001b[0m in \u001b[0;36m<module>\u001b[0;34m\u001b[0m\n\u001b[1;32m     24\u001b[0m \u001b[0mpcov\u001b[0m \u001b[0;34m=\u001b[0m \u001b[0mfa\u001b[0m\u001b[0;34m,\u001b[0m \u001b[0mfb\u001b[0m\u001b[0;34m\u001b[0m\u001b[0;34m\u001b[0m\u001b[0m\n\u001b[1;32m     25\u001b[0m \u001b[0mprint\u001b[0m\u001b[0;34m(\u001b[0m\u001b[0;34m'a = (%.3f +- %.3f)'\u001b[0m \u001b[0;34m%\u001b[0m \u001b[0;34m(\u001b[0m\u001b[0ma\u001b[0m\u001b[0;34m,\u001b[0m \u001b[0mfa\u001b[0m\u001b[0;34m)\u001b[0m\u001b[0;34m)\u001b[0m\u001b[0;34m\u001b[0m\u001b[0;34m\u001b[0m\u001b[0m\n\u001b[0;32m---> 26\u001b[0;31m \u001b[0mprint\u001b[0m\u001b[0;34m(\u001b[0m\u001b[0;34m'b = (%.3f +- %.3f)'\u001b[0m \u001b[0;34m%\u001b[0m \u001b[0;34m(\u001b[0m\u001b[0mb\u001b[0m\u001b[0;34m,\u001b[0m \u001b[0mfb\u001b[0m\u001b[0;34m)\u001b[0m\u001b[0;34m)\u001b[0m\u001b[0;34m\u001b[0m\u001b[0;34m\u001b[0m\u001b[0m\n\u001b[0m\u001b[1;32m     27\u001b[0m \u001b[0;34m\u001b[0m\u001b[0m\n\u001b[1;32m     28\u001b[0m \u001b[0mua\u001b[0m \u001b[0;34m=\u001b[0m \u001b[0mufloat\u001b[0m\u001b[0;34m(\u001b[0m\u001b[0ma\u001b[0m\u001b[0;34m,\u001b[0m \u001b[0mfa\u001b[0m\u001b[0;34m)\u001b[0m\u001b[0;34m\u001b[0m\u001b[0;34m\u001b[0m\u001b[0m\n",
      "\u001b[0;31mTypeError\u001b[0m: only size-1 arrays can be converted to Python scalars"
     ]
    },
    {
     "data": {
      "image/png": "[encoded data removed]",
      "text/plain": [
       "<Figure size 432x288 with 1 Axes>"
      ]
     },
     "metadata": {
      "needs_background": "light"
     },
     "output_type": "display_data"
    }
   ],
   "source": [
    "\n",
    "#  Ausgleichsfunktion\n",
    "def phase(f, T):\n",
    "    omega = 2 * np.pi * f\n",
    "    return np.arctan(-1 * omega * T)\n",
    "#phi = 2 * np.pi * a/b\n",
    "\n",
    "para, pcov = curve_fit(phase, f, phi)\n",
    "pcov = np.sqrt(np.diag(pcov))\n",
    "a = para\n",
    "fa = pcov \n",
    "\n",
    "plt.plot(f, phi, 'xr', markersize=6 , label = 'Messwerte', alpha=0.5)\n",
    "#xx = np.linspace(-10, 140)\n",
    "plt.plot(f, phase(f, a), '-b', linewidth = 1, label = 'Ausgleichsgerade')\n",
    "\n",
    "plt.xlabel(r'$t \\, / \\, \\mathrm{\\mu s}$')\n",
    "plt.ylabel(r'$\\ln \\left(\\frac{U_\\mathrm{c}}{U_{0}}\\right)$')\n",
    "plt.legend(loc=\"best\")\n",
    "plt.xscale('log')\n",
    "plt.grid(True)\n",
    "#plt.xlim(-5, 135)\n",
    "\n",
    "para = a, b\n",
    "pcov = fa, fb\n",
    "print('a = (%.3f +- %.3f)' % (a, fa))\n",
    "print('b = (%.3f +- %.3f)' % (b, fb))\n",
    "\n",
    "ua = ufloat(a, fa)\n",
    "RC = -1/ua\n",
    "print('RC = (%.3f +- %.3f)' % (noms(RC), stds(RC)))"
   ]
  }
 ],
 "metadata": {
  "interpreter": {
   "hash": "4ef32ed23c28cedd878486b9bb2ae1d1ed39a4ae162496b7d4dd2e637309db31"
  },
  "kernelspec": {
   "display_name": "Python 3.8.8 64-bit ('base': conda)",
   "language": "python",
   "name": "python3"
  },
  "language_info": {
   "codemirror_mode": {
    "name": "ipython",
    "version": 3
   },
   "file_extension": ".py",
   "mimetype": "text/x-python",
   "name": "python",
   "nbconvert_exporter": "python",
   "pygments_lexer": "ipython3",
   "version": "3.8.8"
  },
  "orig_nbformat": 4
 },
 "nbformat": 4,
 "nbformat_minor": 2
}
